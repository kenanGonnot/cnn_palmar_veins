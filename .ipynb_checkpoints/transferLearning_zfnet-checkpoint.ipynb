{
 "cells": [
  {
   "cell_type": "code",
   "execution_count": 1,
   "id": "ed86aefc-f6d0-455d-9aef-bc0b5681cd28",
   "metadata": {},
   "outputs": [],
   "source": [
    "import gc\n",
    "import glob\n",
    "import os\n",
    "import sys\n",
    "import cv2\n",
    "import numpy as np\n",
    "import tensorflow as tf\n",
    "from matplotlib import pyplot as plt\n",
    "from random import randrange\n",
    "from tqdm import tqdm, tnrange\n",
    "from tqdm.notebook import tqdm_notebook\n",
    "\n",
    "import warnings\n",
    "\n",
    "from sklearn.model_selection import RandomizedSearchCV\n",
    "from sklearn.model_selection import train_test_split\n",
    "\n",
    "from keras.optimizer_v2.gradient_descent import SGD\n",
    "from keras.wrappers.scikit_learn import KerasClassifier\n",
    "from keras.callbacks import ReduceLROnPlateau\n",
    "from keras.layers import Dense, MaxPooling2D, Flatten, Conv2D, Lambda, Dropout, LeakyReLU, BatchNormalization, Activation, AveragePooling2D, GlobalAveragePooling2D\n",
    "from keras.models import Sequential\n",
    "from keras.preprocessing.image import ImageDataGenerator\n",
    "\n",
    "from mlxtend.evaluate import accuracy\n",
    "\n",
    "from tensorflow.keras.optimizers import Adam,RMSprop,SGD, Nadam\n",
    "#from tensorflow.keras.utils import to_categorical\n",
    "from keras.utils.np_utils import to_categorical # convert to one-hot-encoding\n",
    "from tensorflow.keras.applications import VGG16"
   ]
  },
  {
   "cell_type": "code",
   "execution_count": 2,
   "id": "c5a213c9-c03b-4f1b-a3a0-6e5333383da8",
   "metadata": {},
   "outputs": [],
   "source": [
    "os.environ['TF_CPP_MIN_LOG_LEVEL'] = '2'  # ignore tensorflow warnings\n",
    "warnings.filterwarnings(\"ignore\")"
   ]
  },
  {
   "cell_type": "code",
   "execution_count": 3,
   "id": "ba48d5e6-43f0-4a79-bdf1-366aac61855c",
   "metadata": {},
   "outputs": [],
   "source": [
    "path_data = \"data/data_palm_vein/NIR\""
   ]
  },
  {
   "cell_type": "code",
   "execution_count": 4,
   "id": "6ce62474-4908-4ad6-8814-4b41795aa7e8",
   "metadata": {},
   "outputs": [
    {
     "name": "stdout",
     "output_type": "stream",
     "text": [
      "Found 6000 files belonging to 500 classes.\n",
      "Using 4800 files for training.\n",
      "Metal device set to: Apple M1\n"
     ]
    }
   ],
   "source": [
    "train = tf.keras.preprocessing.image_dataset_from_directory(\n",
    "    path_data,\n",
    "    labels=\"inferred\",\n",
    "    label_mode=\"categorical\",\n",
    "    class_names=None,\n",
    "    color_mode=\"rgb\",\n",
    "    batch_size=32,\n",
    "    image_size=(128, 128),\n",
    "    shuffle=True,\n",
    "    seed=1007,\n",
    "    validation_split=0.2,\n",
    "    subset=\"training\",\n",
    "    interpolation=\"bilinear\",\n",
    "    follow_links=False,\n",
    "    crop_to_aspect_ratio=False,\n",
    ")\n"
   ]
  },
  {
   "cell_type": "code",
   "execution_count": 5,
   "id": "c0fbd595-42be-40bb-859c-9090d02a838d",
   "metadata": {},
   "outputs": [
    {
     "data": {
      "text/plain": [
       "500"
      ]
     },
     "execution_count": 5,
     "metadata": {},
     "output_type": "execute_result"
    }
   ],
   "source": [
    "len(train.class_names)"
   ]
  },
  {
   "cell_type": "code",
   "execution_count": 6,
   "id": "d9402b5c-c092-4e97-9e4b-8fdc1510d628",
   "metadata": {},
   "outputs": [],
   "source": [
    "\n",
    "def zfnet_model(input_shape, classes):\n",
    "    model = Sequential()\n",
    "    model.add(Conv2D(filters=96, kernel_size=(7, 7), strides=(2, 2), padding=\"valid\", activation=\"relu\",\n",
    "                     kernel_initializer=\"uniform\", input_shape=input_shape))\n",
    "\n",
    "    model.add(MaxPooling2D(pool_size=(2, 2), strides=(2, 2)))\n",
    "    # model.add(Lambda(lambda x: tf.image.per_image_standardization(x)))\n",
    "\n",
    "    model.add(Conv2D(filters=256, kernel_size=(5, 5), strides=(2, 2), padding=\"same\",\n",
    "                     activation=\"relu\", kernel_initializer=\"uniform\"))\n",
    "\n",
    "    model.add(MaxPooling2D(pool_size=(3, 3), strides=(2, 2)))\n",
    "    # model.add(Lambda(lambda x: tf.image.per_image_standardization(x)))\n",
    "\n",
    "    model.add(Conv2D(filters=384, kernel_size=(3, 3), strides=(1, 1), padding=\"same\",\n",
    "                     kernel_initializer=\"uniform\"))\n",
    "\n",
    "    model.add(Conv2D(filters=384, kernel_size=(3, 3), strides=(1, 1), padding=\"same\",\n",
    "                     kernel_initializer=\"uniform\"))\n",
    "    model.add(Conv2D(filters=256, kernel_size=(5, 5), strides=(1, 1), padding=\"same\",\n",
    "                     activation=\"relu\", kernel_initializer=\"uniform\"))\n",
    "\n",
    "    model.add(MaxPooling2D(pool_size=(3, 3), strides=(2, 2)))\n",
    "\n",
    "    model.add(Flatten())\n",
    "    model.add(Dense(4096, activation=\"relu\"))\n",
    "    model.add(Dropout(0.5))\n",
    "    model.add(Dense(units=4096, activation=\"relu\"))\n",
    "    model.add(Dropout(0.5))\n",
    "    model.add(Dense(units=classes, activation=\"softmax\"))\n",
    "\n",
    "    print(model.summary())\n",
    "    print(\"\\n ================= ZFNET model ================= \\n\")\n",
    "    # model.compile(optimizer=SGD(lr=0.01, momentum=0.9), loss='categorical_crossentropy',\n",
    "    #               metrics=['accuracy', TopKCategoricalAccuracy(1)])\n",
    "    model.compile(optimizer=Nadam(lr=0.0001), loss='categorical_crossentropy', metrics=['accuracy'])\n",
    "    #model.compile(optimizer='nadam', loss='categorical_crossentropy', metrics=['accuracy'])\n",
    "    # model.compile(optimizer=SGD(lr=0.01, momentum=0.9), loss='binary_crossentropy', metrics=['accuracy'])\n",
    "    #reduce_lr = tf.keras.callbacks.ReduceLROnPlateau(monitor='val_loss', factor=0.1, patience=1, min_lr=0.00001)\n",
    "    # reduce_lr=0\n",
    "    return model\n",
    "\n",
    "\n"
   ]
  },
  {
   "cell_type": "code",
   "execution_count": 7,
   "id": "33afcb1f-8954-4f2c-82fc-c45854989d5d",
   "metadata": {},
   "outputs": [
    {
     "name": "stdout",
     "output_type": "stream",
     "text": [
      "Model: \"sequential\"\n",
      "_________________________________________________________________\n",
      "Layer (type)                 Output Shape              Param #   \n",
      "=================================================================\n",
      "conv2d (Conv2D)              (None, 61, 61, 96)        14208     \n",
      "_________________________________________________________________\n",
      "max_pooling2d (MaxPooling2D) (None, 30, 30, 96)        0         \n",
      "_________________________________________________________________\n",
      "conv2d_1 (Conv2D)            (None, 15, 15, 256)       614656    \n",
      "_________________________________________________________________\n",
      "max_pooling2d_1 (MaxPooling2 (None, 7, 7, 256)         0         \n",
      "_________________________________________________________________\n",
      "conv2d_2 (Conv2D)            (None, 7, 7, 384)         885120    \n",
      "_________________________________________________________________\n",
      "conv2d_3 (Conv2D)            (None, 7, 7, 384)         1327488   \n",
      "_________________________________________________________________\n",
      "conv2d_4 (Conv2D)            (None, 7, 7, 256)         2457856   \n",
      "_________________________________________________________________\n",
      "max_pooling2d_2 (MaxPooling2 (None, 3, 3, 256)         0         \n",
      "_________________________________________________________________\n",
      "flatten (Flatten)            (None, 2304)              0         \n",
      "_________________________________________________________________\n",
      "dense (Dense)                (None, 4096)              9441280   \n",
      "_________________________________________________________________\n",
      "dropout (Dropout)            (None, 4096)              0         \n",
      "_________________________________________________________________\n",
      "dense_1 (Dense)              (None, 4096)              16781312  \n",
      "_________________________________________________________________\n",
      "dropout_1 (Dropout)          (None, 4096)              0         \n",
      "_________________________________________________________________\n",
      "dense_2 (Dense)              (None, 500)               2048500   \n",
      "=================================================================\n",
      "Total params: 33,570,420\n",
      "Trainable params: 33,570,420\n",
      "Non-trainable params: 0\n",
      "_________________________________________________________________\n",
      "None\n",
      "\n",
      " ================= ZFNET model ================= \n",
      "\n"
     ]
    }
   ],
   "source": [
    "Nombre_classes = 500\n",
    "input_shape = (128, 128, 3)\n",
    "model = zfnet_model(input_shape, Nombre_classes)"
   ]
  },
  {
   "cell_type": "code",
   "execution_count": null,
   "id": "70c38539-3f7c-40d1-a98c-00401c8b6d42",
   "metadata": {},
   "outputs": [
    {
     "name": "stdout",
     "output_type": "stream",
     "text": [
      "Epoch 1/5\n",
      "150/150 [==============================] - 42s 266ms/step - loss: 30.9416 - accuracy: 0.0015 - val_loss: 6.2145 - val_accuracy: 0.0025\n",
      "Epoch 2/5\n",
      "150/150 [==============================] - 40s 264ms/step - loss: 6.6461 - accuracy: 6.2500e-04 - val_loss: 6.2189 - val_accuracy: 0.0023\n",
      "Epoch 3/5\n",
      "150/150 [==============================] - 40s 265ms/step - loss: 6.2168 - accuracy: 0.0015 - val_loss: 6.2142 - val_accuracy: 0.0025\n",
      "Epoch 4/5\n",
      "150/150 [==============================] - 40s 266ms/step - loss: 6.2145 - accuracy: 0.0015 - val_loss: 6.2140 - val_accuracy: 0.0025\n",
      "Epoch 5/5\n",
      " 66/150 [============>.................] - ETA: 19s - loss: 6.2138 - accuracy: 0.0024"
     ]
    }
   ],
   "source": [
    "epochs = 5\n",
    "batch = 50\n",
    "trained = model.fit(train, validation_data = train ,epochs=epochs, batch_size=batch)"
   ]
  },
  {
   "cell_type": "code",
   "execution_count": null,
   "id": "d2908ddf-2556-4a4e-8dbf-ec5814608aec",
   "metadata": {},
   "outputs": [],
   "source": [
    "val = model.evaluate(train)\n",
    "\n",
    "print(\"\\nLoss  : %.2f%%\" % (val[0] * 100))\n",
    "print(\"Score : %.2f%%\" % (val[1] * 100))"
   ]
  },
  {
   "cell_type": "code",
   "execution_count": null,
   "id": "b77acffe-b5f6-45a7-ae31-4c51c2fafb6e",
   "metadata": {},
   "outputs": [],
   "source": []
  }
 ],
 "metadata": {
  "kernelspec": {
   "display_name": "tftest",
   "language": "python",
   "name": "tftest"
  },
  "language_info": {
   "codemirror_mode": {
    "name": "ipython",
    "version": 3
   },
   "file_extension": ".py",
   "mimetype": "text/x-python",
   "name": "python",
   "nbconvert_exporter": "python",
   "pygments_lexer": "ipython3",
   "version": "3.9.7"
  }
 },
 "nbformat": 4,
 "nbformat_minor": 5
}
