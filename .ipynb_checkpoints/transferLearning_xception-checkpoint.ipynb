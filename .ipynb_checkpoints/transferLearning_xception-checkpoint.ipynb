{
 "cells": [
  {
   "cell_type": "code",
   "execution_count": 1,
   "id": "ed86aefc-f6d0-455d-9aef-bc0b5681cd28",
   "metadata": {},
   "outputs": [],
   "source": [
    "import gc\n",
    "import glob\n",
    "import os\n",
    "import sys\n",
    "import cv2\n",
    "import numpy as np\n",
    "import tensorflow as tf\n",
    "from matplotlib import pyplot as plt\n",
    "from random import randrange\n",
    "from tqdm import tqdm, tnrange\n",
    "from tqdm.notebook import tqdm_notebook\n",
    "\n",
    "import warnings\n",
    "\n",
    "from sklearn.model_selection import RandomizedSearchCV\n",
    "from sklearn.model_selection import train_test_split\n",
    "\n",
    "from keras.optimizer_v2.gradient_descent import SGD\n",
    "from keras.wrappers.scikit_learn import KerasClassifier\n",
    "from keras.callbacks import ReduceLROnPlateau\n",
    "from keras.layers import Dense, MaxPooling2D, Flatten, Conv2D, Lambda, Dropout, LeakyReLU, BatchNormalization, Activation, AveragePooling2D, GlobalAveragePooling2D\n",
    "from keras.models import Sequential\n",
    "from keras.preprocessing.image import ImageDataGenerator\n",
    "\n",
    "from mlxtend.evaluate import accuracy\n",
    "\n",
    "from tensorflow.keras.optimizers import Adam,RMSprop,SGD, Nadam\n",
    "#from tensorflow.keras.utils import to_categorical\n",
    "from keras.utils.np_utils import to_categorical # convert to one-hot-encoding\n",
    "from tensorflow.keras.applications import VGG16"
   ]
  },
  {
   "cell_type": "code",
   "execution_count": 2,
   "id": "c5a213c9-c03b-4f1b-a3a0-6e5333383da8",
   "metadata": {},
   "outputs": [],
   "source": [
    "os.environ['TF_CPP_MIN_LOG_LEVEL'] = '2'  # ignore tensorflow warnings\n",
    "warnings.filterwarnings(\"ignore\")"
   ]
  },
  {
   "cell_type": "code",
   "execution_count": 3,
   "id": "ba48d5e6-43f0-4a79-bdf1-366aac61855c",
   "metadata": {},
   "outputs": [],
   "source": [
    "path_data = \"data/data_palm_vein/NIR\""
   ]
  },
  {
   "cell_type": "code",
   "execution_count": 4,
   "id": "6ce62474-4908-4ad6-8814-4b41795aa7e8",
   "metadata": {},
   "outputs": [
    {
     "name": "stdout",
     "output_type": "stream",
     "text": [
      "Found 6000 files belonging to 500 classes.\n",
      "Using 4800 files for training.\n",
      "Metal device set to: Apple M1\n"
     ]
    }
   ],
   "source": [
    "train_ds = tf.keras.preprocessing.image_dataset_from_directory(\n",
    "    path_data,\n",
    "    labels=\"inferred\",\n",
    "    label_mode=\"categorical\",\n",
    "    class_names=None,\n",
    "    color_mode=\"rgb\",\n",
    "    batch_size=32,\n",
    "    image_size=(224, 224),\n",
    "    shuffle=True,\n",
    "    seed=1007,\n",
    "    validation_split=0.2,\n",
    "    subset=\"training\",\n",
    "    interpolation=\"bilinear\",\n",
    "    follow_links=False,\n",
    "    crop_to_aspect_ratio=False,\n",
    ")\n"
   ]
  },
  {
   "cell_type": "code",
   "execution_count": 5,
   "id": "c0fbd595-42be-40bb-859c-9090d02a838d",
   "metadata": {},
   "outputs": [
    {
     "name": "stdout",
     "output_type": "stream",
     "text": [
      "Found 6000 files belonging to 500 classes.\n",
      "Using 900 files for validation.\n"
     ]
    }
   ],
   "source": [
    "val_ds = tf.keras.preprocessing.image_dataset_from_directory(\n",
    "    path_data,\n",
    "    labels=\"inferred\",\n",
    "    label_mode=\"categorical\",\n",
    "    class_names=None,\n",
    "    color_mode=\"rgb\",\n",
    "    batch_size=32,\n",
    "    image_size=(224, 224),\n",
    "    shuffle=True,\n",
    "    seed=1007,\n",
    "    validation_split=0.15,\n",
    "    subset=\"validation\",\n",
    "    interpolation=\"bilinear\",\n",
    "    follow_links=False,\n",
    "    crop_to_aspect_ratio=False,\n",
    ")"
   ]
  },
  {
   "cell_type": "code",
   "execution_count": 6,
   "id": "d0790bf7-e934-411a-a916-cc9be1801f1d",
   "metadata": {},
   "outputs": [
    {
     "name": "stdout",
     "output_type": "stream",
     "text": [
      "Found 6000 files belonging to 500 classes.\n",
      "Using 900 files for validation.\n"
     ]
    }
   ],
   "source": [
    "test_ds = tf.keras.preprocessing.image_dataset_from_directory(\n",
    "    path_data,\n",
    "    labels=\"inferred\",\n",
    "    label_mode=\"categorical\",\n",
    "    class_names=None,\n",
    "    color_mode=\"rgb\",\n",
    "    batch_size=32,\n",
    "    image_size=(224, 224),\n",
    "    shuffle=True,\n",
    "    seed=1007,\n",
    "    validation_split=0.15,\n",
    "    subset=\"validation\",\n",
    "    interpolation=\"bilinear\",\n",
    "    follow_links=False,\n",
    "    crop_to_aspect_ratio=False,\n",
    ")"
   ]
  },
  {
   "cell_type": "code",
   "execution_count": 7,
   "id": "d9402b5c-c092-4e97-9e4b-8fdc1510d628",
   "metadata": {},
   "outputs": [],
   "source": [
    "from keras.applications.inception_resnet_v2 import InceptionResNetV2\n",
    "\n",
    "def resnet_model_tf(input_shape=(224, 224, 3), nombre_classes=500):\n",
    "    resnet = InceptionResNetV2(weights=\"imagenet\", include_top=False, input_shape=input_shape)\n",
    "    resnet.tbatch_sizenable = False\n",
    "    model = Sequential()\n",
    "    model.add(resnet)\n",
    "    model.add(Flatten())\n",
    "    model.add(Dense(4096, activation='LeakyReLU'))\n",
    "    model.add(Dropout(0.5))\n",
    "    model.add(Dense(4096, activation='LeakyReLU'))\n",
    "    model.add(Dropout(0.5))\n",
    "    model.add(Dense(nombre_classes, activation='softmax'))\n",
    "    \n",
    "    print(model.summary())\n",
    "    model.compile(loss='categorical_crossentropy', optimizer='nadam', metrics=['accuracy'])\n",
    "    learning_rate_reduction = ReduceLROnPlateau(monitor='val_accuracy', \n",
    "                                            patience=2, \n",
    "                                            verbose=1, \n",
    "                                            factor=0.7, \n",
    "                                            min_lr=0.00000000001)\n",
    "    return model, learning_rate_reduction"
   ]
  },
  {
   "cell_type": "code",
   "execution_count": 8,
   "id": "33afcb1f-8954-4f2c-82fc-c45854989d5d",
   "metadata": {},
   "outputs": [
    {
     "name": "stdout",
     "output_type": "stream",
     "text": [
      "Model: \"sequential\"\n",
      "_________________________________________________________________\n",
      "Layer (type)                 Output Shape              Param #   \n",
      "=================================================================\n",
      "inception_resnet_v2 (Functio (None, 5, 5, 1536)        54336736  \n",
      "_________________________________________________________________\n",
      "flatten (Flatten)            (None, 38400)             0         \n",
      "_________________________________________________________________\n",
      "dense (Dense)                (None, 4096)              157290496 \n",
      "_________________________________________________________________\n",
      "dropout (Dropout)            (None, 4096)              0         \n",
      "_________________________________________________________________\n",
      "dense_1 (Dense)              (None, 4096)              16781312  \n",
      "_________________________________________________________________\n",
      "dropout_1 (Dropout)          (None, 4096)              0         \n",
      "_________________________________________________________________\n",
      "dense_2 (Dense)              (None, 500)               2048500   \n",
      "=================================================================\n",
      "Total params: 230,457,044\n",
      "Trainable params: 230,396,500\n",
      "Non-trainable params: 60,544\n",
      "_________________________________________________________________\n",
      "None\n"
     ]
    }
   ],
   "source": [
    "model, learning_rate_reduction = resnet_model_tf()"
   ]
  },
  {
   "cell_type": "code",
   "execution_count": 9,
   "id": "70c38539-3f7c-40d1-a98c-00401c8b6d42",
   "metadata": {},
   "outputs": [
    {
     "name": "stdout",
     "output_type": "stream",
     "text": [
      "\n",
      " ================= Training : InceptionResNetV2 model ================= \n",
      "\n",
      "             Epochs :  20   |   Batch size : 32 \n",
      "\n",
      " =========================================================== \n",
      "\n",
      "Epoch 1/20\n",
      "150/150 [==============================] - 517s 3s/step - loss: 7.8533 - accuracy: 0.0025 - val_loss: 1624.0743 - val_accuracy: 0.0022\n",
      "Epoch 2/20\n",
      "150/150 [==============================] - 468s 3s/step - loss: 8.0536 - accuracy: 0.0208 - val_loss: 65725.3594 - val_accuracy: 0.0022\n",
      "Epoch 3/20\n",
      "150/150 [==============================] - 470s 3s/step - loss: 6.4758 - accuracy: 0.1658 - val_loss: 2719.6833 - val_accuracy: 0.0044\n",
      "Epoch 4/20\n",
      "150/150 [==============================] - 473s 3s/step - loss: 3.2438 - accuracy: 0.5779 - val_loss: 11473.6016 - val_accuracy: 0.0022\n",
      "Epoch 5/20\n",
      "150/150 [==============================] - 468s 3s/step - loss: 1.7376 - accuracy: 0.8096 - val_loss: 3.0694 - val_accuracy: 0.4300\n",
      "Epoch 6/20\n",
      "150/150 [==============================] - 459s 3s/step - loss: 0.1939 - accuracy: 0.9444 - val_loss: 3.4407 - val_accuracy: 0.4856\n",
      "Epoch 7/20\n",
      "150/150 [==============================] - 459s 3s/step - loss: 0.0961 - accuracy: 0.9735 - val_loss: 1.4573 - val_accuracy: 0.6889\n",
      "Epoch 8/20\n",
      "150/150 [==============================] - 456s 3s/step - loss: 0.1039 - accuracy: 0.9729 - val_loss: 2.7299 - val_accuracy: 0.6844\n",
      "Epoch 9/20\n",
      "150/150 [==============================] - 481s 3s/step - loss: 0.0565 - accuracy: 0.9840 - val_loss: 0.0496 - val_accuracy: 0.9856\n",
      "Epoch 10/20\n",
      "150/150 [==============================] - 466s 3s/step - loss: 0.0563 - accuracy: 0.9835 - val_loss: 0.0947 - val_accuracy: 0.9778\n",
      "Epoch 11/20\n",
      "150/150 [==============================] - 458s 3s/step - loss: 0.0734 - accuracy: 0.9829 - val_loss: 0.0647 - val_accuracy: 0.9856\n",
      "\n",
      "Epoch 00011: ReduceLROnPlateau reducing learning rate to 0.0007000000332482159.\n",
      "Epoch 12/20\n",
      "150/150 [==============================] - 456s 3s/step - loss: 0.0137 - accuracy: 0.9956 - val_loss: 0.0292 - val_accuracy: 0.9933\n",
      "Epoch 13/20\n",
      "150/150 [==============================] - 464s 3s/step - loss: 0.0070 - accuracy: 0.9979 - val_loss: 0.0220 - val_accuracy: 0.9978\n",
      "Epoch 14/20\n",
      "150/150 [==============================] - 455s 3s/step - loss: 0.0040 - accuracy: 0.9992 - val_loss: 0.0216 - val_accuracy: 0.9956\n",
      "Epoch 15/20\n",
      "150/150 [==============================] - 459s 3s/step - loss: 0.0205 - accuracy: 0.9960 - val_loss: 0.7178 - val_accuracy: 0.8511\n",
      "\n",
      "Epoch 00015: ReduceLROnPlateau reducing learning rate to 0.0004900000232737511.\n",
      "Epoch 16/20\n",
      "150/150 [==============================] - 461s 3s/step - loss: 0.0329 - accuracy: 0.9913 - val_loss: 0.0602 - val_accuracy: 0.9856\n",
      "Epoch 17/20\n",
      "150/150 [==============================] - 464s 3s/step - loss: 0.0111 - accuracy: 0.9969 - val_loss: 0.0213 - val_accuracy: 0.9956\n",
      "\n",
      "Epoch 00017: ReduceLROnPlateau reducing learning rate to 0.00034300000406801696.\n",
      "Epoch 18/20\n",
      "150/150 [==============================] - 473s 3s/step - loss: 0.0085 - accuracy: 0.9973 - val_loss: 0.0233 - val_accuracy: 0.9944\n",
      "Epoch 19/20\n",
      "150/150 [==============================] - 466s 3s/step - loss: 0.0027 - accuracy: 0.9990 - val_loss: 0.0157 - val_accuracy: 0.9989\n",
      "Epoch 20/20\n",
      "150/150 [==============================] - 1243s 8s/step - loss: 0.0030 - accuracy: 0.9988 - val_loss: 0.7810 - val_accuracy: 0.8944\n"
     ]
    }
   ],
   "source": [
    "epochs = 20\n",
    "batch = 32\n",
    "\n",
    "print(\"\\n ================= Training : InceptionResNetV2 model ================= \\n\")\n",
    "print(\"             Epochs :  {}   |   Batch size : {} \".format(epochs, batch))\n",
    "print(\"\\n =========================================================== \\n\")\n",
    "trained = model.fit(train_ds, validation_data = val_ds, epochs=epochs, batch_size=batch, callbacks=[learning_rate_reduction])"
   ]
  },
  {
   "cell_type": "code",
   "execution_count": 10,
   "id": "d2908ddf-2556-4a4e-8dbf-ec5814608aec",
   "metadata": {},
   "outputs": [
    {
     "name": "stdout",
     "output_type": "stream",
     "text": [
      "29/29 [==============================] - 14s 496ms/step - loss: 0.7810 - accuracy: 0.8944\n",
      "\n",
      " ================= Evaluation : InceptionResNetV2 model ================= \n",
      "\n",
      "  With : \n",
      "\n",
      "Batch size         :  32     |   Epochs      : 20 \n",
      "Nombres de classes :  500    |   Input shape : (224, 224, 3) \n",
      "\n",
      "\n",
      " ============================================================= \n",
      "\n",
      "  Results : \n",
      "\n",
      "Loss  : 78.10%\n",
      "Score : 89.44%\n"
     ]
    }
   ],
   "source": [
    "val = model.evaluate(test_ds)\n",
    "input_shape = (224, 224, 3)\n",
    "\n",
    "print(\"\\n ================= Evaluation : InceptionResNetV2 model ================= \\n\")\n",
    "print(\"  With : \\n\")\n",
    "print(\"Batch size         :  {}     |   Epochs      : {} \".format(batch, epochs))\n",
    "print(\"Nombres de classes :  {}    |   Input shape : {} \\n\".format(len(train_ds.class_names), input_shape))\n",
    "print(\"\\n ============================================================= \\n\")\n",
    "\n",
    "print(\"  Results : \\n\")\n",
    "print(\"Loss  : %.2f%%\" % (val[0] * 100))\n",
    "print(\"Score : %.2f%%\" % (val[1] * 100))"
   ]
  },
  {
   "cell_type": "code",
   "execution_count": null,
   "id": "0b807be9-798a-4258-bf8f-6ebf608c8280",
   "metadata": {},
   "outputs": [],
   "source": [
    "!mkdir -p saved_model\n",
    "model.save('saved_model/inception_20epochs_32batch.h5')"
   ]
  },
  {
   "cell_type": "code",
   "execution_count": null,
   "id": "9da67ed0-c8fe-46ff-8f85-f7f6c928399e",
   "metadata": {},
   "outputs": [],
   "source": []
  },
  {
   "cell_type": "code",
   "execution_count": 11,
   "id": "b77acffe-b5f6-45a7-ae31-4c51c2fafb6e",
   "metadata": {},
   "outputs": [
    {
     "data": {
      "image/png": "[encoded data removed]",
      "text/plain": [
       "<Figure size 432x288 with 1 Axes>"
      ]
     },
     "metadata": {
      "needs_background": "light"
     },
     "output_type": "display_data"
    },
    {
     "data": {
      "image/png": "[encoded data removed]",
      "text/plain": [
       "<Figure size 432x288 with 1 Axes>"
      ]
     },
     "metadata": {
      "needs_background": "light"
     },
     "output_type": "display_data"
    }
   ],
   "source": [
    "def plot_scores(train):\n",
    "    accuracy = train.history['accuracy']\n",
    "    val_accuracy = train.history['val_accuracy']\n",
    "    epochs = range(len(accuracy))\n",
    "    plt.plot(epochs, accuracy, 'b', label='Score apprentissage')\n",
    "    plt.plot(epochs, val_accuracy, 'r', label='Score validation')\n",
    "    plt.title('Scores')\n",
    "    plt.legend()\n",
    "    plt.show()\n",
    "def plot_loss(train):\n",
    "    loss = train.history['loss']\n",
    "    val_loss = train.history['val_loss']\n",
    "    epochs = range(len(loss))\n",
    "    plt.plot(epochs, loss, 'b', label='Loss apprentissage')\n",
    "    plt.plot(epochs, val_loss, 'r', label='Loss validation')\n",
    "    plt.title('Scores')\n",
    "    plt.legend()\n",
    "    plt.show()\n",
    "    \n",
    "plot_scores(trained)\n",
    "plot_loss(trained)"
   ]
  },
  {
   "cell_type": "code",
   "execution_count": null,
   "id": "b60301fb-92bc-4e88-a862-69d18ec0a34f",
   "metadata": {},
   "outputs": [],
   "source": []
  }
 ],
 "metadata": {
  "kernelspec": {
   "display_name": "tftest",
   "language": "python",
   "name": "tftest"
  },
  "language_info": {
   "codemirror_mode": {
    "name": "ipython",
    "version": 3
   },
   "file_extension": ".py",
   "mimetype": "text/x-python",
   "name": "python",
   "nbconvert_exporter": "python",
   "pygments_lexer": "ipython3",
   "version": "3.9.7"
  }
 },
 "nbformat": 4,
 "nbformat_minor": 5
}
