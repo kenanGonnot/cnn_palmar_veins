{
 "cells": [
  {
   "cell_type": "code",
   "execution_count": 1,
   "id": "ed86aefc-f6d0-455d-9aef-bc0b5681cd28",
   "metadata": {},
   "outputs": [],
   "source": [
    "import gc\n",
    "import glob\n",
    "import os\n",
    "import sys\n",
    "import cv2\n",
    "import numpy as np\n",
    "import tensorflow as tf\n",
    "from matplotlib import pyplot as plt\n",
    "from random import randrange\n",
    "from tqdm import tqdm, tnrange\n",
    "from tqdm.notebook import tqdm_notebook\n",
    "\n",
    "import warnings\n",
    "\n",
    "from sklearn.model_selection import RandomizedSearchCV\n",
    "from sklearn.model_selection import train_test_split\n",
    "\n",
    "from keras.optimizer_v2.gradient_descent import SGD\n",
    "from keras.wrappers.scikit_learn import KerasClassifier\n",
    "from keras.callbacks import ReduceLROnPlateau\n",
    "from keras.layers import Dense, MaxPooling2D, Flatten, Conv2D, Lambda, Dropout, LeakyReLU, BatchNormalization, Activation, AveragePooling2D, GlobalAveragePooling2D\n",
    "from keras.models import Sequential\n",
    "from keras.preprocessing.image import ImageDataGenerator\n",
    "\n",
    "from mlxtend.evaluate import accuracy\n",
    "\n",
    "from tensorflow.keras.optimizers import Adam,RMSprop,SGD, Nadam\n",
    "#from tensorflow.keras.utils import to_categorical\n",
    "from keras.utils.np_utils import to_categorical # convert to one-hot-encoding\n",
    "from tensorflow.keras.applications import VGG16"
   ]
  },
  {
   "cell_type": "code",
   "execution_count": 2,
   "id": "c5a213c9-c03b-4f1b-a3a0-6e5333383da8",
   "metadata": {},
   "outputs": [],
   "source": [
    "os.environ['TF_CPP_MIN_LOG_LEVEL'] = '2'  # ignore tensorflow warnings\n",
    "warnings.filterwarnings(\"ignore\")"
   ]
  },
  {
   "cell_type": "code",
   "execution_count": 3,
   "id": "ba48d5e6-43f0-4a79-bdf1-366aac61855c",
   "metadata": {},
   "outputs": [],
   "source": [
    "path_data = \"data/data_palm_vein/NIR\""
   ]
  },
  {
   "cell_type": "code",
   "execution_count": 4,
   "id": "6ce62474-4908-4ad6-8814-4b41795aa7e8",
   "metadata": {},
   "outputs": [
    {
     "name": "stdout",
     "output_type": "stream",
     "text": [
      "Found 6000 files belonging to 500 classes.\n",
      "Using 4800 files for training.\n",
      "Metal device set to: Apple M1\n"
     ]
    }
   ],
   "source": [
    "train = tf.keras.preprocessing.image_dataset_from_directory(\n",
    "    path_data,\n",
    "    labels=\"inferred\",\n",
    "    label_mode=\"categorical\",\n",
    "    class_names=None,\n",
    "    color_mode=\"rgb\",\n",
    "    batch_size=32,\n",
    "    image_size=(128, 128),\n",
    "    shuffle=True,\n",
    "    seed=1007,\n",
    "    validation_split=0.2,\n",
    "    subset=\"training\",\n",
    "    interpolation=\"bilinear\",\n",
    "    follow_links=False,\n",
    "    crop_to_aspect_ratio=False,\n",
    ")\n"
   ]
  },
  {
   "cell_type": "code",
   "execution_count": 5,
   "id": "c0fbd595-42be-40bb-859c-9090d02a838d",
   "metadata": {},
   "outputs": [
    {
     "data": {
      "text/plain": [
       "500"
      ]
     },
     "execution_count": 5,
     "metadata": {},
     "output_type": "execute_result"
    }
   ],
   "source": [
    "len(train.class_names)"
   ]
  },
  {
   "cell_type": "code",
   "execution_count": 6,
   "id": "d9402b5c-c092-4e97-9e4b-8fdc1510d628",
   "metadata": {},
   "outputs": [],
   "source": [
    "from keras.applications.vgg19 import VGG19\n",
    "\n",
    "def vgg_model_tf(input_shape=(128, 128, 3), nombre_classes=500):\n",
    "    vgg19 = VGG19(weights='imagenet', include_top=False, input_shape=input_shape)\n",
    "    vgg19.trainable = False\n",
    "    model = Sequential()\n",
    "    model.add(vgg19)\n",
    "    model.add(Flatten())\n",
    "    model.add(Dense(4096, activation='LeakyReLU'))\n",
    "    model.add(Dense(4096, activation='LeakyReLU'))\n",
    "    model.add(Dense(nombre_classes, activation='softmax'))\n",
    "    model.compile(loss='categorical_crossentropy', optimizer='nadam', metrics=['accuracy'])\n",
    "    model.summary()\n",
    "    return model"
   ]
  },
  {
   "cell_type": "code",
   "execution_count": 7,
   "id": "33afcb1f-8954-4f2c-82fc-c45854989d5d",
   "metadata": {},
   "outputs": [
    {
     "name": "stdout",
     "output_type": "stream",
     "text": [
      "Model: \"sequential\"\n",
      "_________________________________________________________________\n",
      "Layer (type)                 Output Shape              Param #   \n",
      "=================================================================\n",
      "vgg19 (Functional)           (None, 4, 4, 512)         20024384  \n",
      "_________________________________________________________________\n",
      "flatten (Flatten)            (None, 8192)              0         \n",
      "_________________________________________________________________\n",
      "dense (Dense)                (None, 4096)              33558528  \n",
      "_________________________________________________________________\n",
      "dense_1 (Dense)              (None, 4096)              16781312  \n",
      "_________________________________________________________________\n",
      "dense_2 (Dense)              (None, 500)               2048500   \n",
      "=================================================================\n",
      "Total params: 72,412,724\n",
      "Trainable params: 52,388,340\n",
      "Non-trainable params: 20,024,384\n",
      "_________________________________________________________________\n"
     ]
    }
   ],
   "source": [
    "model = vgg_model_tf()"
   ]
  },
  {
   "cell_type": "code",
   "execution_count": 8,
   "id": "70c38539-3f7c-40d1-a98c-00401c8b6d42",
   "metadata": {},
   "outputs": [
    {
     "name": "stdout",
     "output_type": "stream",
     "text": [
      "\n",
      " ================= Training : VGG16 model ================= \n",
      "\n",
      "             Epochs :  10   |   Batch size : 50 \n",
      "\n",
      " ========================================================== \n",
      "\n",
      "Epoch 1/10\n",
      "150/150 [==============================] - 106s 709ms/step - loss: 33.0886 - accuracy: 0.3498 - val_loss: 0.4333 - val_accuracy: 0.9352\n",
      "Epoch 2/10\n",
      "150/150 [==============================] - 106s 710ms/step - loss: 0.6682 - accuracy: 0.9200 - val_loss: 0.6285 - val_accuracy: 0.9325\n",
      "Epoch 3/10\n",
      "150/150 [==============================] - 106s 711ms/step - loss: 455.4421 - accuracy: 0.6996 - val_loss: 679.8967 - val_accuracy: 0.0302\n",
      "Epoch 4/10\n",
      "150/150 [==============================] - 106s 711ms/step - loss: 177.9415 - accuracy: 0.5927 - val_loss: 3.5223 - val_accuracy: 0.9354\n",
      "Epoch 5/10\n",
      "150/150 [==============================] - 108s 725ms/step - loss: 2.7728 - accuracy: 0.9435 - val_loss: 1.9737 - val_accuracy: 0.9656\n",
      "Epoch 6/10\n",
      "150/150 [==============================] - 114s 760ms/step - loss: 1.5510 - accuracy: 0.9721 - val_loss: 1.1947 - val_accuracy: 0.9781\n",
      "Epoch 7/10\n",
      "150/150 [==============================] - 114s 760ms/step - loss: 1.3916 - accuracy: 0.9692 - val_loss: 2.5708 - val_accuracy: 0.9525\n",
      "Epoch 8/10\n",
      "150/150 [==============================] - 113s 756ms/step - loss: 2.5355 - accuracy: 0.9623 - val_loss: 3.1708 - val_accuracy: 0.9458\n",
      "Epoch 9/10\n",
      "150/150 [==============================] - 11232s 75s/step - loss: 2.9880 - accuracy: 0.9527 - val_loss: 2.2875 - val_accuracy: 0.9644\n",
      "Epoch 10/10\n",
      "150/150 [==============================] - 106s 710ms/step - loss: 2.7847 - accuracy: 0.9610 - val_loss: 5.7341 - val_accuracy: 0.9277\n"
     ]
    }
   ],
   "source": [
    "epochs = 10\n",
    "batch = 50\n",
    "print(\"\\n ================= Training : VGG16 model ================= \\n\")\n",
    "print(\"             Epochs :  {}   |   Batch size : {} \".format(epochs, batch))\n",
    "print(\"\\n ========================================================== \\n\")\n",
    "trained = model.fit(train, validation_data = train,epochs=epochs, batch_size=batch)"
   ]
  },
  {
   "cell_type": "code",
   "execution_count": 9,
   "id": "d2908ddf-2556-4a4e-8dbf-ec5814608aec",
   "metadata": {},
   "outputs": [
    {
     "name": "stdout",
     "output_type": "stream",
     "text": [
      "150/150 [==============================] - 42s 280ms/step - loss: 5.7341 - accuracy: 0.9277\n",
      "\n",
      " ================= Evaluation : VGG16 model ================= \n",
      "\n",
      "  With : \n",
      "\n",
      "Batch size         :  50     |   Epochs      : 10 \n",
      "Nombres de classes :  500    |   Input shape : (128, 128, 3) \n",
      "\n",
      "\n",
      " ============================================================ \n",
      "\n",
      "  Results : \n",
      "\n",
      "Loss  : 573.41%\n",
      "Score : 92.77%\n"
     ]
    }
   ],
   "source": [
    "val = model.evaluate(train)\n",
    "input_shape = (128, 128, 3)\n",
    "\n",
    "print(\"\\n ================= Evaluation : VGG16 model ================= \\n\")\n",
    "print(\"  With : \\n\")\n",
    "print(\"Batch size         :  {}     |   Epochs      : {} \".format(batch, epochs))\n",
    "print(\"Nombres de classes :  {}    |   Input shape : {} \\n\".format(len(train.class_names), input_shape))\n",
    "print(\"\\n ============================================================ \\n\")\n",
    "\n",
    "print(\"  Results : \\n\")\n",
    "print(\"Loss  : %.2f%%\" % (val[0] * 100))\n",
    "print(\"Score : %.2f%%\" % (val[1] * 100))"
   ]
  },
  {
   "cell_type": "code",
   "execution_count": null,
   "id": "b77acffe-b5f6-45a7-ae31-4c51c2fafb6e",
   "metadata": {},
   "outputs": [],
   "source": []
  }
 ],
 "metadata": {
  "kernelspec": {
   "display_name": "tftest",
   "language": "python",
   "name": "tftest"
  },
  "language_info": {
   "codemirror_mode": {
    "name": "ipython",
    "version": 3
   },
   "file_extension": ".py",
   "mimetype": "text/x-python",
   "name": "python",
   "nbconvert_exporter": "python",
   "pygments_lexer": "ipython3",
   "version": "3.9.7"
  }
 },
 "nbformat": 4,
 "nbformat_minor": 5
}