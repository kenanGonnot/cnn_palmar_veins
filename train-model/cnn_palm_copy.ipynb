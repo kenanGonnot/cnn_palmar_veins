{
 "cells": [
  {
   "cell_type": "code",
   "execution_count": 2,
   "id": "1b097322",
   "metadata": {},
   "outputs": [],
   "source": [
    "import gc\n",
    "import glob\n",
    "import os\n",
    "import cv2\n",
    "import numpy as np\n",
    "from matplotlib import pyplot as plt\n",
    "from tqdm import tqdm, tnrange\n",
    "from tqdm.notebook import tqdm_notebook\n",
    "\n",
    "import warnings\n",
    "\n",
    "from sklearn.model_selection import RandomizedSearchCV\n",
    "from sklearn.model_selection import train_test_split\n",
    "\n",
    "import tensorflow as tf\n",
    "from keras.optimizer_v2.gradient_descent import SGD\n",
    "from keras.wrappers.scikit_learn import KerasClassifier\n",
    "from keras.callbacks import ReduceLROnPlateau\n",
    "from keras.layers import Dense, MaxPooling2D, Flatten, Conv2D, Lambda, Dropout, LeakyReLU\n",
    "from keras.models import Sequential\n",
    "from mlxtend.evaluate import accuracy\n",
    "from tensorflow.keras.optimizers import Adam,RMSprop,SGD, Nadam\n",
    "from tensorflow.keras.utils import to_categorical\n",
    "from tensorflow.keras.applications import VGG16"
   ]
  },
  {
   "cell_type": "code",
   "execution_count": 3,
   "id": "04f6592f",
   "metadata": {},
   "outputs": [],
   "source": [
    "#tf.random.set_seed(0)\n",
    "os.environ['TF_CPP_MIN_LOG_LEVEL'] = '2'  # ignore tensorflow warnings\n",
    "warnings.filterwarnings(\"ignore\")"
   ]
  },
  {
   "cell_type": "code",
   "execution_count": 4,
   "id": "8bc04ed8",
   "metadata": {},
   "outputs": [],
   "source": [
    "path_data = \"data/data_palm_vein/NIR\""
   ]
  },
  {
   "cell_type": "code",
   "execution_count": 5,
   "id": "05855268",
   "metadata": {},
   "outputs": [],
   "source": [
    "def load_img(path, xdim=128, ydim=128):\n",
    "    label_names = []\n",
    "    nmax = 6000\n",
    "    X = []\n",
    "    y = []\n",
    "    count = 0\n",
    "    #print(\"Loading images...\")\n",
    "    for dirname in tqdm_notebook(os.listdir(path), desc=\"Loading images...\"):\n",
    "        #print(\"dirname : \", dirname)\n",
    "        label_names.append(dirname)\n",
    "        data_path = os.path.join(path + \"/\" + dirname, '*g')\n",
    "        # print(\"data_path: \" + data_path)\n",
    "        files = glob.glob(data_path)\n",
    "        #print(\"Count = \", count)\n",
    "        if count > nmax: break\n",
    "        for f1 in files:\n",
    "            #print(\"files : \", f1)\n",
    "            img = cv2.imread(f1)\n",
    "            #img = cv2.imread(f1, cv2.IMREAD_GRAYSCALE)\n",
    "            # img = cv2.cvtColor(img, cv2.COLOR_BGR2RGB)\n",
    "            img = cv2.cvtColor(img, cv2.COLOR_BGR2GRAY)\n",
    "            #img = cv2.imread(f1, 0)\n",
    "            #img = cv2.resize(img, (xdim, ydim))\n",
    "            X.append(np.array(img))\n",
    "            y.append(dirname)\n",
    "            count += 1\n",
    "    print(count, ' images lues')\n",
    "    X = np.array(X)\n",
    "    y = np.array(y)\n",
    "    gc.collect()\n",
    "    return X, y, label_names"
   ]
  },
  {
   "cell_type": "code",
   "execution_count": 6,
   "id": "931f9228",
   "metadata": {
    "scrolled": true
   },
   "outputs": [
    {
     "data": {
      "application/vnd.jupyter.widget-view+json": {
       "model_id": "be752b10ff774a4198e6e0ab33ed9d48",
       "version_major": 2,
       "version_minor": 0
      },
      "text/plain": [
       "Loading images...:   0%|          | 0/501 [00:00<?, ?it/s]"
      ]
     },
     "metadata": {},
     "output_type": "display_data"
    },
    {
     "name": "stdout",
     "output_type": "stream",
     "text": [
      "6000  images lues\n",
      "y.shape =  (6000,)\n",
      "X.shape =  (6000, 128, 128)\n"
     ]
    }
   ],
   "source": [
    "X, y, label_names = load_img(path_data)\n",
    "\n",
    "print(\"y.shape = \", y.shape)\n",
    "print(\"X.shape = \", X.shape)"
   ]
  },
  {
   "cell_type": "code",
   "execution_count": 7,
   "id": "185379c8",
   "metadata": {},
   "outputs": [
    {
     "name": "stdout",
     "output_type": "stream",
     "text": [
      "Preprocessing data\n",
      "-----------------------------------------\n",
      "\n",
      "X shape : (6000, 128, 128, 1)\n",
      "-----------------------------------------\n",
      "y shape : (6000, 501)\n",
      "\n"
     ]
    }
   ],
   "source": [
    "X = X / 255.\n",
    "X = X.reshape(X.shape[0], X.shape[1], X.shape[2], 1)\n",
    "y = to_categorical(y)\n",
    "\n",
    "print(\"Preprocessing data\")\n",
    "print(\"-----------------------------------------\")\n",
    "print(\"\\nX shape : {}\".format(X.shape))\n",
    "print(\"-----------------------------------------\")\n",
    "print(\"y shape : {}\\n\".format(y.shape))"
   ]
  },
  {
   "cell_type": "code",
   "execution_count": 8,
   "id": "2ec2b1ec-c403-48bc-bcc4-509793dc793b",
   "metadata": {},
   "outputs": [
    {
     "name": "stdout",
     "output_type": "stream",
     "text": [
      "X :  [[[0.50980392]\n",
      "  [0.52156863]\n",
      "  [0.5372549 ]\n",
      "  ...\n",
      "  [0.52156863]\n",
      "  [0.51764706]\n",
      "  [0.51372549]]\n",
      "\n",
      " [[0.5254902 ]\n",
      "  [0.5254902 ]\n",
      "  [0.52941176]\n",
      "  ...\n",
      "  [0.56078431]\n",
      "  [0.55686275]\n",
      "  [0.52156863]]\n",
      "\n",
      " [[0.52156863]\n",
      "  [0.5254902 ]\n",
      "  [0.52941176]\n",
      "  ...\n",
      "  [0.54117647]\n",
      "  [0.55294118]\n",
      "  [0.54901961]]\n",
      "\n",
      " ...\n",
      "\n",
      " [[0.48627451]\n",
      "  [0.49019608]\n",
      "  [0.50196078]\n",
      "  ...\n",
      "  [0.53333333]\n",
      "  [0.52156863]\n",
      "  [0.54509804]]\n",
      "\n",
      " [[0.49019608]\n",
      "  [0.49019608]\n",
      "  [0.49411765]\n",
      "  ...\n",
      "  [0.52941176]\n",
      "  [0.51372549]\n",
      "  [0.52941176]]\n",
      "\n",
      " [[0.50196078]\n",
      "  [0.49411765]\n",
      "  [0.48627451]\n",
      "  ...\n",
      "  [0.54509804]\n",
      "  [0.51764706]\n",
      "  [0.49803922]]]\n",
      "y :  [0. 0. 0. 0. 0. 0. 0. 0. 0. 0. 0. 0. 0. 0. 0. 0. 0. 0. 0. 0. 0. 0. 0. 0.\n",
      " 0. 0. 0. 0. 0. 0. 0. 0. 0. 0. 0. 0. 0. 0. 0. 0. 0. 0. 0. 0. 0. 0. 0. 0.\n",
      " 0. 0. 0. 0. 0. 0. 0. 0. 0. 0. 0. 0. 0. 0. 0. 0. 0. 0. 0. 0. 0. 0. 0. 0.\n",
      " 0. 0. 0. 0. 0. 0. 0. 0. 0. 0. 0. 0. 0. 0. 0. 0. 0. 0. 0. 0. 0. 0. 0. 0.\n",
      " 0. 0. 0. 0. 0. 0. 0. 0. 0. 0. 0. 0. 0. 0. 0. 0. 0. 0. 0. 0. 0. 0. 0. 0.\n",
      " 0. 0. 0. 0. 0. 0. 0. 0. 0. 0. 0. 0. 0. 0. 0. 0. 0. 0. 0. 0. 0. 0. 0. 0.\n",
      " 0. 0. 0. 0. 0. 0. 0. 0. 0. 0. 0. 0. 0. 0. 0. 0. 0. 0. 0. 0. 0. 0. 0. 0.\n",
      " 0. 0. 0. 0. 0. 0. 0. 0. 0. 0. 0. 0. 0. 0. 0. 0. 0. 0. 0. 0. 0. 0. 0. 0.\n",
      " 0. 0. 0. 0. 0. 0. 0. 0. 0. 0. 0. 0. 0. 0. 0. 0. 0. 0. 0. 0. 0. 0. 0. 0.\n",
      " 0. 0. 0. 0. 0. 0. 0. 0. 0. 0. 0. 0. 0. 0. 0. 0. 0. 0. 0. 0. 0. 0. 0. 0.\n",
      " 0. 0. 0. 0. 0. 0. 0. 0. 0. 0. 0. 0. 0. 0. 0. 0. 0. 0. 0. 0. 0. 0. 0. 0.\n",
      " 0. 0. 0. 0. 0. 0. 0. 0. 0. 0. 0. 0. 0. 0. 0. 0. 0. 0. 0. 0. 0. 0. 0. 0.\n",
      " 0. 0. 0. 0. 0. 0. 0. 0. 0. 0. 0. 0. 0. 0. 0. 0. 0. 0. 0. 0. 0. 0. 0. 0.\n",
      " 0. 0. 0. 0. 0. 0. 0. 0. 0. 0. 0. 0. 0. 0. 0. 0. 0. 0. 0. 0. 0. 0. 0. 0.\n",
      " 0. 0. 0. 0. 0. 0. 0. 0. 0. 0. 0. 0. 0. 0. 0. 0. 0. 0. 0. 0. 0. 0. 0. 0.\n",
      " 0. 0. 0. 0. 0. 0. 0. 0. 0. 0. 0. 0. 0. 0. 0. 0. 0. 0. 0. 0. 0. 0. 0. 0.\n",
      " 0. 0. 0. 0. 0. 1. 0. 0. 0. 0. 0. 0. 0. 0. 0. 0. 0. 0. 0. 0. 0. 0. 0. 0.\n",
      " 0. 0. 0. 0. 0. 0. 0. 0. 0. 0. 0. 0. 0. 0. 0. 0. 0. 0. 0. 0. 0. 0. 0. 0.\n",
      " 0. 0. 0. 0. 0. 0. 0. 0. 0. 0. 0. 0. 0. 0. 0. 0. 0. 0. 0. 0. 0. 0. 0. 0.\n",
      " 0. 0. 0. 0. 0. 0. 0. 0. 0. 0. 0. 0. 0. 0. 0. 0. 0. 0. 0. 0. 0. 0. 0. 0.\n",
      " 0. 0. 0. 0. 0. 0. 0. 0. 0. 0. 0. 0. 0. 0. 0. 0. 0. 0. 0. 0. 0.]\n"
     ]
    }
   ],
   "source": [
    "j = 4\n",
    "print(\"X : \",X[j])\n",
    "print(\"y : \", y[j])"
   ]
  },
  {
   "cell_type": "code",
   "execution_count": 9,
   "id": "875bb75e",
   "metadata": {},
   "outputs": [
    {
     "data": {
      "image/png": "[encoded data removed]",
      "text/plain": [
       "<Figure size 432x288 with 1 Axes>"
      ]
     },
     "metadata": {
      "needs_background": "light"
     },
     "output_type": "display_data"
    },
    {
     "name": "stdout",
     "output_type": "stream",
     "text": [
      "[[[0.55294118]\n",
      "  [0.54509804]\n",
      "  [0.55686275]\n",
      "  ...\n",
      "  [0.56862745]\n",
      "  [0.57254902]\n",
      "  [0.56470588]]\n",
      "\n",
      " [[0.54901961]\n",
      "  [0.55686275]\n",
      "  [0.56862745]\n",
      "  ...\n",
      "  [0.57647059]\n",
      "  [0.58039216]\n",
      "  [0.56862745]]\n",
      "\n",
      " [[0.54901961]\n",
      "  [0.56862745]\n",
      "  [0.56470588]\n",
      "  ...\n",
      "  [0.57647059]\n",
      "  [0.57254902]\n",
      "  [0.56862745]]\n",
      "\n",
      " ...\n",
      "\n",
      " [[0.55294118]\n",
      "  [0.57647059]\n",
      "  [0.57647059]\n",
      "  ...\n",
      "  [0.51372549]\n",
      "  [0.51764706]\n",
      "  [0.5254902 ]]\n",
      "\n",
      " [[0.56078431]\n",
      "  [0.57254902]\n",
      "  [0.57254902]\n",
      "  ...\n",
      "  [0.50980392]\n",
      "  [0.51372549]\n",
      "  [0.52156863]]\n",
      "\n",
      " [[0.56862745]\n",
      "  [0.54509804]\n",
      "  [0.56078431]\n",
      "  ...\n",
      "  [0.52156863]\n",
      "  [0.51764706]\n",
      "  [0.52941176]]]\n"
     ]
    }
   ],
   "source": [
    "j = 34\n",
    "plt.imshow(X[j], cmap='gray')\n",
    "#plt.imshow(X[j])\n",
    "plt.show()\n",
    "#print(\"\\ny : \\n\",y[j])\n",
    "print(X[j])"
   ]
  },
  {
   "cell_type": "code",
   "execution_count": 10,
   "id": "b9a178bf",
   "metadata": {},
   "outputs": [
    {
     "name": "stdout",
     "output_type": "stream",
     "text": [
      "Splitting data ...\n",
      "\n",
      "-----------------------------------------------------------------------------------------\n",
      "\n",
      "X_train shape : (4200, 128, 128, 1)    |   y_train shape : (4200, 501)\n",
      "-----------------------------------------------------------------------------------------\n",
      "\n",
      "X_test shape  : (900, 128, 128, 1)    |   y_test shape  : (900, 501)\n",
      "-----------------------------------------------------------------------------------------\n",
      "\n",
      "X_val shape   : (900, 128, 128, 1)    |   y_val shape   : (900, 501)\n"
     ]
    }
   ],
   "source": [
    "X_train, X_temp, y_train, y_temp = train_test_split(X, y, test_size=0.3, random_state=42, stratify=y)\n",
    "\n",
    "X_test, X_val, y_test, y_val = train_test_split(X_temp, y_temp, test_size=0.5, random_state=42)\n",
    "\n",
    "print(\"Splitting data ...\\n\")\n",
    "print(\"-----------------------------------------------------------------------------------------\")\n",
    "print(\"\\nX_train shape : {}    |   y_train shape : {}\".format(X_train.shape, y_train.shape))\n",
    "print(\"-----------------------------------------------------------------------------------------\")\n",
    "print(\"\\nX_test shape  : {}    |   y_test shape  : {}\".format(X_test.shape, y_test.shape))\n",
    "print(\"-----------------------------------------------------------------------------------------\")\n",
    "print(\"\\nX_val shape   : {}    |   y_val shape   : {}\".format(X_val.shape, y_val.shape))"
   ]
  },
  {
   "cell_type": "code",
   "execution_count": 11,
   "id": "585f20b5-6780-4404-a113-5b0653db811d",
   "metadata": {},
   "outputs": [
    {
     "name": "stdout",
     "output_type": "stream",
     "text": [
      "Metal device set to: Apple M1\n",
      "Model: \"sequential\"\n",
      "_________________________________________________________________\n",
      "Layer (type)                 Output Shape              Param #   \n",
      "=================================================================\n",
      "conv2d (Conv2D)              (None, 126, 126, 32)      320       \n",
      "_________________________________________________________________\n",
      "max_pooling2d (MaxPooling2D) (None, 63, 63, 32)        0         \n",
      "_________________________________________________________________\n",
      "conv2d_1 (Conv2D)            (None, 61, 61, 64)        18496     \n",
      "_________________________________________________________________\n",
      "max_pooling2d_1 (MaxPooling2 (None, 30, 30, 64)        0         \n",
      "_________________________________________________________________\n",
      "conv2d_2 (Conv2D)            (None, 28, 28, 64)        36928     \n",
      "_________________________________________________________________\n",
      "flatten (Flatten)            (None, 50176)             0         \n",
      "_________________________________________________________________\n",
      "dense (Dense)                (None, 64)                3211328   \n",
      "_________________________________________________________________\n",
      "dense_1 (Dense)              (None, 501)               32565     \n",
      "=================================================================\n",
      "Total params: 3,299,637\n",
      "Trainable params: 3,299,637\n",
      "Non-trainable params: 0\n",
      "_________________________________________________________________\n"
     ]
    }
   ],
   "source": [
    "from tensorflow.keras.layers import BatchNormalization, Activation, AveragePooling2D, GlobalAveragePooling2D\n",
    "\n",
    "model = Sequential()\n",
    "model.add(Conv2D(32, (3, 3), activation='relu', input_shape=(128, 128,1)))\n",
    "model.add(MaxPooling2D((2, 2)))\n",
    "model.add(Conv2D(64, (3, 3), activation='relu'))\n",
    "model.add(MaxPooling2D((2, 2)))\n",
    "model.add(Conv2D(64, (3, 3), activation='relu'))\n",
    "model.add(Flatten())\n",
    "model.add(Dense(64, activation='relu'))\n",
    "model.add(Dense(501, activation='sigmoid'))\n",
    "\n",
    "model.compile(optimizer='rmsprop',\n",
    "              loss='categorical_crossentropy',\n",
    "              metrics=['accuracy'])\n",
    "\n",
    "model.summary()"
   ]
  },
  {
   "cell_type": "code",
   "execution_count": 12,
   "id": "b5e7072f-17ec-42e6-8d51-2c8065a62b61",
   "metadata": {},
   "outputs": [
    {
     "name": "stdout",
     "output_type": "stream",
     "text": [
      "Epoch 1/10\n",
      "132/132 [==============================] - 13s 84ms/step - loss: 6.2238 - accuracy: 9.5238e-04\n",
      "Epoch 2/10\n",
      "132/132 [==============================] - 10s 79ms/step - loss: 6.2189 - accuracy: 7.1429e-04\n",
      "Epoch 3/10\n",
      "132/132 [==============================] - 10s 79ms/step - loss: 6.2186 - accuracy: 7.1429e-04\n",
      "Epoch 4/10\n",
      "132/132 [==============================] - 10s 79ms/step - loss: 6.2184 - accuracy: 9.5238e-04\n",
      "Epoch 5/10\n",
      "132/132 [==============================] - 10s 79ms/step - loss: 6.2182 - accuracy: 9.5238e-04\n",
      "Epoch 6/10\n",
      "132/132 [==============================] - 10s 79ms/step - loss: 6.2179 - accuracy: 4.7619e-04\n",
      "Epoch 7/10\n",
      "132/132 [==============================] - 10s 79ms/step - loss: 6.2177 - accuracy: 0.0014\n",
      "Epoch 8/10\n",
      "132/132 [==============================] - 10s 79ms/step - loss: 6.2177 - accuracy: 9.5238e-04\n",
      "Epoch 9/10\n",
      "132/132 [==============================] - 10s 79ms/step - loss: 6.2173 - accuracy: 9.5238e-04\n",
      "Epoch 10/10\n",
      "132/132 [==============================] - 10s 79ms/step - loss: 6.2172 - accuracy: 0.0017\n"
     ]
    },
    {
     "data": {
      "text/plain": [
       "<keras.callbacks.History at 0x3540a6760>"
      ]
     },
     "execution_count": 12,
     "metadata": {},
     "output_type": "execute_result"
    }
   ],
   "source": [
    "model.fit(X_train, y_train, epochs=10)"
   ]
  },
  {
   "cell_type": "code",
   "execution_count": 14,
   "id": "c56ee44b-a0b2-468e-902f-25fc0aaa5f84",
   "metadata": {},
   "outputs": [
    {
     "name": "stdout",
     "output_type": "stream",
     "text": [
      "\n",
      "Loss  : 621.85%\n",
      "Score : 0.00%\n"
     ]
    }
   ],
   "source": [
    "val = model.evaluate(X_test, y_test, verbose=0)\n",
    "\n",
    "print(\"\\nLoss  : %.2f%%\" % (val[0] * 100))\n",
    "print(\"Score : %.2f%%\" % (val[1] * 100))"
   ]
  },
  {
   "cell_type": "code",
   "execution_count": null,
   "id": "d54a5084-3994-4e03-93f9-90de4d10941a",
   "metadata": {},
   "outputs": [],
   "source": []
  },
  {
   "cell_type": "code",
   "execution_count": null,
   "id": "8b910708-b26b-4ae1-9467-d9cb609f1790",
   "metadata": {},
   "outputs": [],
   "source": []
  },
  {
   "cell_type": "code",
   "execution_count": null,
   "id": "42720b59-fda9-44ba-9331-8111c5b5ffaa",
   "metadata": {},
   "outputs": [],
   "source": []
  },
  {
   "cell_type": "code",
   "execution_count": null,
   "id": "cb82a800-4940-47c8-8574-4bbadfa20206",
   "metadata": {},
   "outputs": [],
   "source": []
  },
  {
   "cell_type": "code",
   "execution_count": null,
   "id": "e584ad5a-81ef-4303-8083-3db785d07d62",
   "metadata": {},
   "outputs": [],
   "source": []
  },
  {
   "cell_type": "code",
   "execution_count": null,
   "id": "5db65db9-725d-421a-a4c7-d0cc8167f81b",
   "metadata": {},
   "outputs": [],
   "source": []
  },
  {
   "cell_type": "code",
   "execution_count": null,
   "id": "8a0834db-2e13-40d7-ab0e-da2c10078c02",
   "metadata": {},
   "outputs": [],
   "source": []
  },
  {
   "cell_type": "code",
   "execution_count": null,
   "id": "b0f764c8-3ffb-4b79-82d8-a56c2d0267be",
   "metadata": {},
   "outputs": [],
   "source": []
  },
  {
   "cell_type": "code",
   "execution_count": null,
   "id": "42a24821-0ec3-4a4e-ba9f-fbdeaca2e97e",
   "metadata": {},
   "outputs": [],
   "source": []
  },
  {
   "cell_type": "code",
   "execution_count": 15,
   "id": "50747e1c",
   "metadata": {},
   "outputs": [],
   "source": [
    "def zfnet_model(input_shape, classes):\n",
    "    model = Sequential()\n",
    "    model.add(Conv2D(filters=96, kernel_size=(7, 7), strides=(2, 2), padding=\"valid\", activation=\"relu\",\n",
    "                     kernel_initializer=\"uniform\", input_shape=input_shape))\n",
    "\n",
    "    model.add(MaxPooling2D(pool_size=(2, 2), strides=(2, 2)))\n",
    "    # model.add(Lambda(lambda x: tf.image.per_image_standardization(x)))\n",
    "\n",
    "    model.add(Conv2D(filters=256, kernel_size=(5, 5), strides=(2, 2), padding=\"same\",\n",
    "                     activation=\"relu\", kernel_initializer=\"uniform\"))\n",
    "\n",
    "    model.add(MaxPooling2D(pool_size=(3, 3), strides=(2, 2)))\n",
    "    # model.add(Lambda(lambda x: tf.image.per_image_standardization(x)))\n",
    "\n",
    "    model.add(Conv2D(filters=384, kernel_size=(3, 3), strides=(1, 1), padding=\"same\",\n",
    "                     kernel_initializer=\"uniform\"))\n",
    "\n",
    "    model.add(Conv2D(filters=384, kernel_size=(3, 3), strides=(1, 1), padding=\"same\",\n",
    "                     kernel_initializer=\"uniform\"))\n",
    "    model.add(Conv2D(filters=256, kernel_size=(5, 5), strides=(1, 1), padding=\"same\",\n",
    "                     activation=\"relu\", kernel_initializer=\"uniform\"))\n",
    "\n",
    "    model.add(MaxPooling2D(pool_size=(3, 3), strides=(2, 2)))\n",
    "\n",
    "    model.add(Flatten())\n",
    "    model.add(Dense(4096, activation=\"relu\"))\n",
    "    model.add(Dropout(0.5))\n",
    "    model.add(Dense(units=4096, activation=\"relu\"))\n",
    "    model.add(Dropout(0.5))\n",
    "    model.add(Dense(units=classes, activation=\"softmax\"))\n",
    "\n",
    "    print(model.summary())\n",
    "    print(\"\\n ================= ZFNET model ================= \\n\")\n",
    "    # model.compile(optimizer=SGD(lr=0.01, momentum=0.9), loss='categorical_crossentropy',\n",
    "    #               metrics=['accuracy', TopKCategoricalAccuracy(1)])\n",
    "    model.compile(optimizer=Nadam(lr=0.0001), loss='categorical_crossentropy', metrics=['accuracy'])\n",
    "    #model.compile(optimizer='nadam', loss='categorical_crossentropy', metrics=['accuracy'])\n",
    "    # model.compile(optimizer=SGD(lr=0.01, momentum=0.9), loss='binary_crossentropy', metrics=['accuracy'])\n",
    "    #reduce_lr = tf.keras.callbacks.ReduceLROnPlateau(monitor='val_loss', factor=0.1, patience=1, min_lr=0.00001)\n",
    "    # reduce_lr=0\n",
    "    return model\n",
    "\n"
   ]
  },
  {
   "cell_type": "code",
   "execution_count": 16,
   "id": "eb620244",
   "metadata": {},
   "outputs": [
    {
     "name": "stdout",
     "output_type": "stream",
     "text": [
      "Model: \"sequential_1\"\n",
      "_________________________________________________________________\n",
      "Layer (type)                 Output Shape              Param #   \n",
      "=================================================================\n",
      "conv2d_3 (Conv2D)            (None, 61, 61, 96)        4800      \n",
      "_________________________________________________________________\n",
      "max_pooling2d_2 (MaxPooling2 (None, 30, 30, 96)        0         \n",
      "_________________________________________________________________\n",
      "conv2d_4 (Conv2D)            (None, 15, 15, 256)       614656    \n",
      "_________________________________________________________________\n",
      "max_pooling2d_3 (MaxPooling2 (None, 7, 7, 256)         0         \n",
      "_________________________________________________________________\n",
      "conv2d_5 (Conv2D)            (None, 7, 7, 384)         885120    \n",
      "_________________________________________________________________\n",
      "conv2d_6 (Conv2D)            (None, 7, 7, 384)         1327488   \n",
      "_________________________________________________________________\n",
      "conv2d_7 (Conv2D)            (None, 7, 7, 256)         2457856   \n",
      "_________________________________________________________________\n",
      "max_pooling2d_4 (MaxPooling2 (None, 3, 3, 256)         0         \n",
      "_________________________________________________________________\n",
      "flatten_1 (Flatten)          (None, 2304)              0         \n",
      "_________________________________________________________________\n",
      "dense_2 (Dense)              (None, 4096)              9441280   \n",
      "_________________________________________________________________\n",
      "dropout (Dropout)            (None, 4096)              0         \n",
      "_________________________________________________________________\n",
      "dense_3 (Dense)              (None, 4096)              16781312  \n",
      "_________________________________________________________________\n",
      "dropout_1 (Dropout)          (None, 4096)              0         \n",
      "_________________________________________________________________\n",
      "dense_4 (Dense)              (None, 501)               2052597   \n",
      "=================================================================\n",
      "Total params: 33,565,109\n",
      "Trainable params: 33,565,109\n",
      "Non-trainable params: 0\n",
      "_________________________________________________________________\n",
      "None\n",
      "\n",
      " ================= ZFNET model ================= \n",
      "\n"
     ]
    }
   ],
   "source": [
    "Nombre_classes = len(label_names)\n",
    "input_shape = (128, 128, 1)\n",
    "model_zfnet = zfnet_model(input_shape, Nombre_classes)"
   ]
  },
  {
   "cell_type": "code",
   "execution_count": 17,
   "id": "b57b2f9b",
   "metadata": {
    "scrolled": true
   },
   "outputs": [
    {
     "name": "stdout",
     "output_type": "stream",
     "text": [
      "Epoch 1/3\n",
      "132/132 [==============================] - 32s 229ms/step - loss: 6.2407 - accuracy: 7.1429e-04 - val_loss: 6.2165 - val_accuracy: 0.0011\n",
      "Epoch 2/3\n",
      "132/132 [==============================] - 30s 225ms/step - loss: 6.2195 - accuracy: 7.1429e-04 - val_loss: 6.2166 - val_accuracy: 0.0044\n",
      "Epoch 3/3\n",
      "132/132 [==============================] - 30s 230ms/step - loss: 6.2177 - accuracy: 0.0017 - val_loss: 6.2164 - val_accuracy: 0.0033\n",
      "\n",
      "Loss  : 621.75%\n",
      "Score : 0.00%\n"
     ]
    }
   ],
   "source": [
    "trained_modelzfnet = model_zfnet.fit(X_train, y_train, validation_data=(X_val, y_val), epochs=3)\n",
    "\n",
    "val = model_zfnet.evaluate(X_test, y_test, verbose=0)\n",
    "\n",
    "print(\"\\nLoss  : %.2f%%\" % (val[0] * 100))\n",
    "print(\"Score : %.2f%%\" % (val[1] * 100))\n"
   ]
  },
  {
   "cell_type": "code",
   "execution_count": 18,
   "id": "307f8b99",
   "metadata": {},
   "outputs": [],
   "source": [
    "from keras.applications.resnet_v2 import ResNet152V2\n",
    "\n",
    "def resnet_model_tf(input_shape=(128, 128, 1), nombre_classes=501):\n",
    "    resnet = ResNet152V2(weights=None, include_top=False, input_shape=input_shape)\n",
    "    resnet.trainable = False\n",
    "    model = Sequential()\n",
    "    model.add(resnet)\n",
    "    model.add(Flatten())\n",
    "    model.add(Dense(1024, activation='relu'))\n",
    "    model.add(Dense(nombre_classes, activation='softmax'))\n",
    "    \n",
    "    print(model.summary())\n",
    "    model.compile(loss='categorical_crossentropy', optimizer='nadam', metrics=['accuracy'])\n",
    "    return model"
   ]
  },
  {
   "cell_type": "code",
   "execution_count": 19,
   "id": "8b5bd6f5",
   "metadata": {},
   "outputs": [
    {
     "name": "stdout",
     "output_type": "stream",
     "text": [
      "Model: \"sequential_2\"\n",
      "_________________________________________________________________\n",
      "Layer (type)                 Output Shape              Param #   \n",
      "=================================================================\n",
      "resnet152v2 (Functional)     (None, 4, 4, 2048)        58325376  \n",
      "_________________________________________________________________\n",
      "flatten_2 (Flatten)          (None, 32768)             0         \n",
      "_________________________________________________________________\n",
      "dense_5 (Dense)              (None, 1024)              33555456  \n",
      "_________________________________________________________________\n",
      "dense_6 (Dense)              (None, 501)               513525    \n",
      "=================================================================\n",
      "Total params: 92,394,357\n",
      "Trainable params: 34,068,981\n",
      "Non-trainable params: 58,325,376\n",
      "_________________________________________________________________\n",
      "None\n",
      "Epoch 1/4\n",
      "132/132 [==============================] - 59s 421ms/step - loss: 6.2461 - accuracy: 2.3810e-04 - val_loss: 6.2170 - val_accuracy: 0.0022\n",
      "Epoch 2/4\n",
      "132/132 [==============================] - 54s 409ms/step - loss: 6.2180 - accuracy: 9.5238e-04 - val_loss: 6.2170 - val_accuracy: 0.0000e+00\n",
      "Epoch 3/4\n",
      "132/132 [==============================] - 54s 409ms/step - loss: 6.2177 - accuracy: 7.1429e-04 - val_loss: 6.2171 - val_accuracy: 0.0033\n",
      "Epoch 4/4\n",
      "132/132 [==============================] - 54s 409ms/step - loss: 6.2174 - accuracy: 4.7619e-04 - val_loss: 6.2171 - val_accuracy: 0.0011\n",
      "\n",
      "Loss  : 621.69%\n",
      "Score : 0.22%\n"
     ]
    }
   ],
   "source": [
    "model_resnet = resnet_model_tf()\n",
    "\n",
    "trained_model_resnet = model_resnet.fit(X_train, y_train, validation_data=(X_val, y_val), epochs=4)\n",
    "\n",
    "val1 = model_resnet.evaluate(X_test, y_test, verbose=0)\n",
    "\n",
    "print(\"\\nLoss  : %.2f%%\" % (val1[0] * 100))\n",
    "print(\"Score : %.2f%%\" % (val1[1] * 100))"
   ]
  },
  {
   "cell_type": "code",
   "execution_count": null,
   "id": "c15ceee4",
   "metadata": {},
   "outputs": [],
   "source": []
  }
 ],
 "metadata": {
  "kernelspec": {
   "display_name": "tftest",
   "language": "python",
   "name": "tftest"
  },
  "language_info": {
   "codemirror_mode": {
    "name": "ipython",
    "version": 3
   },
   "file_extension": ".py",
   "mimetype": "text/x-python",
   "name": "python",
   "nbconvert_exporter": "python",
   "pygments_lexer": "ipython3",
   "version": "3.9.7"
  }
 },
 "nbformat": 4,
 "nbformat_minor": 5
}
