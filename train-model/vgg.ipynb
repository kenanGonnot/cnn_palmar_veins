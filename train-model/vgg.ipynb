{
 "cells": [
  {
   "cell_type": "code",
   "execution_count": 1,
   "id": "851a9fe7-fd48-4885-b4d0-c77e8f683d4f",
   "metadata": {},
   "outputs": [],
   "source": [
    "import gc\n",
    "import glob\n",
    "import os\n",
    "import sys\n",
    "import cv2\n",
    "import numpy as np\n",
    "import tensorflow as tf\n",
    "from matplotlib import pyplot as plt\n",
    "from random import randrange\n",
    "from tqdm import tqdm, tnrange\n",
    "from tqdm.notebook import tqdm_notebook\n",
    "\n",
    "import warnings\n",
    "\n",
    "from sklearn.model_selection import RandomizedSearchCV\n",
    "from sklearn.model_selection import train_test_split\n",
    "\n",
    "from keras.optimizer_v2.gradient_descent import SGD\n",
    "from keras.wrappers.scikit_learn import KerasClassifier\n",
    "from keras.callbacks import ReduceLROnPlateau\n",
    "from keras.layers import Dense, MaxPooling2D, Flatten, Conv2D, Lambda, Dropout, LeakyReLU, BatchNormalization, Activation, AveragePooling2D, GlobalAveragePooling2D\n",
    "from keras.models import Sequential\n",
    "from keras.preprocessing.image import ImageDataGenerator\n",
    "\n",
    "from mlxtend.evaluate import accuracy\n",
    "\n",
    "from tensorflow.keras.optimizers import Adam,RMSprop,SGD, Nadam\n",
    "#from tensorflow.keras.utils import to_categorical\n",
    "from keras.utils.np_utils import to_categorical # convert to one-hot-encoding\n",
    "from tensorflow.keras.applications import VGG16"
   ]
  },
  {
   "cell_type": "code",
   "execution_count": 2,
   "id": "7949618f-1f6e-40d6-8344-8c79718fa091",
   "metadata": {},
   "outputs": [],
   "source": [
    "os.environ['TF_CPP_MIN_LOG_LEVEL'] = '2'  # ignore tensorflow warnings\n",
    "warnings.filterwarnings(\"ignore\")"
   ]
  },
  {
   "cell_type": "code",
   "execution_count": 3,
   "id": "ba3ac1db-7d61-4780-8aa6-a10fb33d9034",
   "metadata": {},
   "outputs": [],
   "source": [
    "path_data = \"data/data_palm_vein/NIR\""
   ]
  },
  {
   "cell_type": "code",
   "execution_count": 4,
   "id": "bae3cfe5-c7f6-4856-bd37-70b3a437b08f",
   "metadata": {},
   "outputs": [],
   "source": [
    "def load_img(path, xdim=128, ydim=128, nb_of_users = 500):\n",
    "    label_names = []\n",
    "    X = []\n",
    "    y = []\n",
    "    nb_of_users = nb_of_users - 1\n",
    "    count = 0\n",
    "    identity = -1\n",
    "    directories = os.listdir(path)\n",
    "    directories.sort()\n",
    "    for dirname in tqdm_notebook(directories, desc=\"Loading images...\"):\n",
    "        if dirname == \".DS_Store\": continue\n",
    "        label_names.append(dirname)\n",
    "        data_path = os.path.join(path + \"/\" + dirname, '*g')\n",
    "        files = glob.glob(data_path)\n",
    "        if identity >= nb_of_users: break\n",
    "        identity += 1\n",
    "        files.sort()\n",
    "        for f1 in files:\n",
    "            img = cv2.imread(f1, cv2.IMREAD_GRAYSCALE)\n",
    "            #img = cv2.imread(f1)\n",
    "            #img = cv2.cvtColor(img,cv2.COLOR_GRAY2RGB)\n",
    "            img = cv2.resize(img,(int(xdim*1), int(ydim*1)))\n",
    "            X.append(np.array(img))\n",
    "            y.append(identity)\n",
    "            count += 1\n",
    "    X = np.array(X)\n",
    "    y = np.array(y)\n",
    "    print(\"\\n ================= Summary of extraction ================= \\n\")\n",
    "    print(count, ' images lues')\n",
    "    print(\"\\nX.shape = \", X.shape)\n",
    "    print(\"y.shape = \", y.shape)\n",
    "    gc.collect()\n",
    "    return X, y, label_names"
   ]
  },
  {
   "cell_type": "code",
   "execution_count": 5,
   "id": "ad596e67-c4c3-4820-ae3a-4efb91978f07",
   "metadata": {},
   "outputs": [
    {
     "data": {
      "application/vnd.jupyter.widget-view+json": {
       "model_id": "d20766dc65d04ba4ad170c77a1695184",
       "version_major": 2,
       "version_minor": 0
      },
      "text/plain": [
       "Loading images...:   0%|          | 0/501 [00:00<?, ?it/s]"
      ]
     },
     "metadata": {},
     "output_type": "display_data"
    },
    {
     "name": "stdout",
     "output_type": "stream",
     "text": [
      "\n",
      " ================= Summary of extraction ================= \n",
      "\n",
      "600  images lues\n",
      "\n",
      "X.shape =  (600, 224, 224)\n",
      "y.shape =  (600,)\n"
     ]
    }
   ],
   "source": [
    "X, y, label_names = load_img(path_data, nb_of_users=50, xdim=224, ydim=224)"
   ]
  },
  {
   "cell_type": "code",
   "execution_count": 6,
   "id": "cf451e58-023f-4812-95b7-6121d2429b14",
   "metadata": {},
   "outputs": [
    {
     "name": "stdout",
     "output_type": "stream",
     "text": [
      "\n",
      "PREPROCESSING DATA\n",
      "-----------------------------------------\n",
      "\n",
      "X shape : (600, 224, 224, 1)\n",
      "-----------------------------------------\n",
      "y shape : (600, 50)\n",
      "\n",
      "\n",
      "\n",
      "-----------------------------------------\n",
      "Il y a 50 utilisateur(s) dans le dataset prélevé.\n"
     ]
    }
   ],
   "source": [
    "X = X / 255.\n",
    "X = X.reshape(X.shape[0], X.shape[1], X.shape[2], 1)\n",
    "y = to_categorical(y)\n",
    "\n",
    "print(\"\\nPREPROCESSING DATA\")\n",
    "print(\"-----------------------------------------\")\n",
    "print(\"\\nX shape : {}\".format(X.shape))\n",
    "print(\"-----------------------------------------\")\n",
    "print(\"y shape : {}\\n\".format(y.shape))\n",
    "print(\"\\n\\n-----------------------------------------\")\n",
    "print(\"Il y a {} utilisateur(s) dans le dataset prélevé.\".format(y.shape[1]))"
   ]
  },
  {
   "cell_type": "code",
   "execution_count": 18,
   "id": "e1bb2fec-65e2-433b-9116-252b08564aad",
   "metadata": {},
   "outputs": [
    {
     "name": "stdout",
     "output_type": "stream",
     "text": [
      "\n",
      "Splitting data ...\n",
      "\n",
      "\n",
      "=============================== Splitting data =============================== \n",
      "\n",
      "\n",
      "X_train shape : (480, 224, 224, 1)    |   y_train shape : (480, 50)\n",
      "------------------------------------------------------------------------------\n",
      "(X_temp shape : (120, 224, 224, 1)    |   y_temp shape : (120, 50))\n",
      "\n"
     ]
    }
   ],
   "source": [
    "\n",
    "X_train, X_temp, y_train, y_temp = train_test_split(X, y, test_size=0.2, random_state=42)\n",
    "print(\"\\nSplitting data ...\\n\")\n",
    "print(\"\\n=============================== Splitting data =============================== \\n\")\n",
    "print(\"\\nX_train shape : {}    |   y_train shape : {}\".format(X_train.shape, y_train.shape))\n",
    "print(\"------------------------------------------------------------------------------\")\n",
    "print(\"(X_temp shape : {}    |   y_temp shape : {})\\n\".format(X_temp.shape, y_temp.shape))\n"
   ]
  },
  {
   "cell_type": "raw",
   "id": "ea340ed6-28b7-4e18-8164-2e3204d02704",
   "metadata": {},
   "source": [
    "from keras.applications.vgg16 import VGG16\n",
    "\n",
    "def vgg_model_tf(input_shape=(128, 128, 1), nombre_classes=500):\n",
    "    vgg16 = VGG16(weights=None, include_top=False, input_shape=input_shape)\n",
    "    vgg16.trainable = False\n",
    "    model = Sequential()\n",
    "    model.add(vgg16)\n",
    "    model.add(Flatten())\n",
    "    model.add(Dense(1000, activation='relu'))\n",
    "    model.add(Dense(nombre_classes, activation='softmax'))\n",
    "    model.compile(loss='categorical_crossentropy', optimizer='nadam', metrics=['accuracy'])\n",
    "    model.summary()\n",
    "    return model"
   ]
  },
  {
   "cell_type": "code",
   "execution_count": 27,
   "id": "fa67f84e-033e-4088-bd01-e615a5d741ba",
   "metadata": {},
   "outputs": [],
   "source": [
    "def vgg_model(input_shape=(128, 128, 1), nombre_classes=500):\n",
    "    model = Sequential()\n",
    "    model.add(Conv2D(64, (3, 3), kernel_initializer='he_uniform', activation='LeakyReLU', input_shape=input_shape,\n",
    "                     padding='same'))\n",
    "    model.add(Conv2D(64, kernel_size=(3, 3), strides=(2, 2), kernel_initializer='he_uniform', activation='LeakyReLU',\n",
    "                     padding='same'))\n",
    "    model.add(MaxPooling2D(strides=(2, 2)))\n",
    "    model.add(\n",
    "        Conv2D(128, kernel_size=(3, 3), activation='LeakyReLU', padding='same', kernel_initializer='he_uniform', ))\n",
    "    model.add(\n",
    "        Conv2D(128, kernel_size=(3, 3), activation='LeakyReLU', padding='same', kernel_initializer='he_uniform', ))\n",
    "    model.add(MaxPooling2D(strides=(2, 2)))\n",
    "    model.add(\n",
    "        Conv2D(256, kernel_size=(3, 3), activation='LeakyReLU', padding='same', kernel_initializer='he_uniform', ))\n",
    "    model.add(\n",
    "        Conv2D(256, kernel_size=(3, 3), activation='LeakyReLU', padding='same', kernel_initializer='he_uniform', ))\n",
    "    model.add(\n",
    "        Conv2D(256, kernel_size=(3, 3), activation='LeakyReLU', padding='same', kernel_initializer='he_uniform', ))\n",
    "    model.add(MaxPooling2D(strides=(2, 2)))\n",
    "    model.add(\n",
    "        Conv2D(512, kernel_size=(3, 3), activation='LeakyReLU', padding='same', kernel_initializer='he_uniform', ))\n",
    "    model.add(\n",
    "        Conv2D(512, kernel_size=(3, 3), activation='LeakyReLU', padding='same', kernel_initializer='he_uniform', ))\n",
    "    model.add(\n",
    "        Conv2D(512, kernel_size=(3, 3), activation='LeakyReLU', padding='same', kernel_initializer='he_uniform', ))\n",
    "    model.add(MaxPooling2D(strides=(2, 2)))\n",
    "    model.add(Flatten())\n",
    "    model.add(Dense(4096, activation='LeakyReLU'))\n",
    "    model.add(Dense(4096, activation='LeakyReLU'))\n",
    "    model.add(Dense(nombre_classes, activation='softmax'))\n",
    "\n",
    "    print(model.summary())\n",
    "    print(\"\\n ================= VGG16 model ================= \\n\")\n",
    "\n",
    "    model.compile(optimizer=\"nadam\", loss='categorical_crossentropy', metrics='accuracy')\n",
    "    return model"
   ]
  },
  {
   "cell_type": "code",
   "execution_count": 28,
   "id": "ed1a11f7-a383-4d56-bd74-9c69e45a2251",
   "metadata": {},
   "outputs": [
    {
     "name": "stdout",
     "output_type": "stream",
     "text": [
      "\n",
      "Nombres de classes : 50   |   Input shape : (224, 224, 1)\n",
      "\n"
     ]
    }
   ],
   "source": [
    "Nombre_classes = y.shape[1]\n",
    "input_shape = (X.shape[1], X.shape[2], 1)\n",
    "print(\"\\nNombres de classes : {}   |   Input shape : {}\\n\".format(Nombre_classes, input_shape))"
   ]
  },
  {
   "cell_type": "code",
   "execution_count": 29,
   "id": "1a0ba2de-b297-4e1c-afec-d947c3ae2b0a",
   "metadata": {},
   "outputs": [
    {
     "name": "stdout",
     "output_type": "stream",
     "text": [
      "Model: \"sequential_2\"\n",
      "_________________________________________________________________\n",
      "Layer (type)                 Output Shape              Param #   \n",
      "=================================================================\n",
      "conv2d_20 (Conv2D)           (None, 224, 224, 64)      640       \n",
      "_________________________________________________________________\n",
      "conv2d_21 (Conv2D)           (None, 112, 112, 64)      36928     \n",
      "_________________________________________________________________\n",
      "max_pooling2d_8 (MaxPooling2 (None, 56, 56, 64)        0         \n",
      "_________________________________________________________________\n",
      "conv2d_22 (Conv2D)           (None, 56, 56, 128)       73856     \n",
      "_________________________________________________________________\n",
      "conv2d_23 (Conv2D)           (None, 56, 56, 128)       147584    \n",
      "_________________________________________________________________\n",
      "max_pooling2d_9 (MaxPooling2 (None, 28, 28, 128)       0         \n",
      "_________________________________________________________________\n",
      "conv2d_24 (Conv2D)           (None, 28, 28, 256)       295168    \n",
      "_________________________________________________________________\n",
      "conv2d_25 (Conv2D)           (None, 28, 28, 256)       590080    \n",
      "_________________________________________________________________\n",
      "conv2d_26 (Conv2D)           (None, 28, 28, 256)       590080    \n",
      "_________________________________________________________________\n",
      "max_pooling2d_10 (MaxPooling (None, 14, 14, 256)       0         \n",
      "_________________________________________________________________\n",
      "conv2d_27 (Conv2D)           (None, 14, 14, 512)       1180160   \n",
      "_________________________________________________________________\n",
      "conv2d_28 (Conv2D)           (None, 14, 14, 512)       2359808   \n",
      "_________________________________________________________________\n",
      "conv2d_29 (Conv2D)           (None, 14, 14, 512)       2359808   \n",
      "_________________________________________________________________\n",
      "max_pooling2d_11 (MaxPooling (None, 7, 7, 512)         0         \n",
      "_________________________________________________________________\n",
      "flatten_2 (Flatten)          (None, 25088)             0         \n",
      "_________________________________________________________________\n",
      "dense_6 (Dense)              (None, 4096)              102764544 \n",
      "_________________________________________________________________\n",
      "dense_7 (Dense)              (None, 4096)              16781312  \n",
      "_________________________________________________________________\n",
      "dense_8 (Dense)              (None, 50)                204850    \n",
      "=================================================================\n",
      "Total params: 127,384,818\n",
      "Trainable params: 127,384,818\n",
      "Non-trainable params: 0\n",
      "_________________________________________________________________\n",
      "None\n",
      "\n",
      " ================= VGG16 model ================= \n",
      "\n"
     ]
    }
   ],
   "source": [
    "model_zfnet = vgg_model(input_shape, Nombre_classes)"
   ]
  },
  {
   "cell_type": "code",
   "execution_count": 30,
   "id": "3dac73df-34a4-4144-97cb-dde33ed84a05",
   "metadata": {
    "tags": []
   },
   "outputs": [
    {
     "name": "stdout",
     "output_type": "stream",
     "text": [
      "\n",
      " ================= Training : ZFNET model ================= \n",
      "\n",
      "  Epochs :  80   |   Batch size : 50 \n",
      "\n",
      " ========================================================== \n",
      "\n",
      "Epoch 1/80\n",
      "15/15 [==============================] - 19s 1s/step - loss: 4783.2275 - accuracy: 0.0188 - val_loss: 185.8005 - val_accuracy: 0.0333\n",
      "Epoch 2/80\n",
      "15/15 [==============================] - 18s 1s/step - loss: 83.6102 - accuracy: 0.0063 - val_loss: 12.3980 - val_accuracy: 0.0417\n",
      "Epoch 3/80\n",
      "15/15 [==============================] - 18s 1s/step - loss: 10.0592 - accuracy: 0.0083 - val_loss: 5.8813 - val_accuracy: 0.0250\n",
      "Epoch 4/80\n",
      "15/15 [==============================] - 18s 1s/step - loss: 4.8733 - accuracy: 0.0167 - val_loss: 4.2622 - val_accuracy: 0.0083\n",
      "Epoch 5/80\n",
      "15/15 [==============================] - 18s 1s/step - loss: 4.0831 - accuracy: 0.0292 - val_loss: 4.2230 - val_accuracy: 0.0083\n",
      "Epoch 6/80\n",
      "15/15 [==============================] - 18s 1s/step - loss: 4.1786 - accuracy: 0.0208 - val_loss: 4.1317 - val_accuracy: 0.0083\n",
      "Epoch 7/80\n",
      "15/15 [==============================] - 18s 1s/step - loss: 4.0167 - accuracy: 0.0312 - val_loss: 4.0291 - val_accuracy: 0.0333\n",
      "Epoch 8/80\n",
      "15/15 [==============================] - 19s 1s/step - loss: 4.2013 - accuracy: 0.0188 - val_loss: 4.0585 - val_accuracy: 0.0333\n",
      "Epoch 9/80\n",
      "15/15 [==============================] - 18s 1s/step - loss: 3.9755 - accuracy: 0.0271 - val_loss: 4.0450 - val_accuracy: 0.0000e+00\n",
      "Epoch 10/80\n",
      "15/15 [==============================] - 18s 1s/step - loss: 3.9525 - accuracy: 0.0167 - val_loss: 4.0820 - val_accuracy: 0.0000e+00\n",
      "Epoch 11/80\n",
      "15/15 [==============================] - 18s 1s/step - loss: 3.9523 - accuracy: 0.0146 - val_loss: 4.0375 - val_accuracy: 0.0083\n",
      "Epoch 12/80\n",
      "15/15 [==============================] - 18s 1s/step - loss: 3.9431 - accuracy: 0.0229 - val_loss: 4.1873 - val_accuracy: 0.0083\n",
      "Epoch 13/80\n",
      "15/15 [==============================] - 18s 1s/step - loss: 3.9402 - accuracy: 0.0167 - val_loss: 4.0024 - val_accuracy: 0.0083\n",
      "Epoch 14/80\n",
      "15/15 [==============================] - 18s 1s/step - loss: 3.9648 - accuracy: 0.0208 - val_loss: 4.0697 - val_accuracy: 0.0250\n",
      "Epoch 15/80\n",
      "15/15 [==============================] - 18s 1s/step - loss: 3.9419 - accuracy: 0.0229 - val_loss: 4.2353 - val_accuracy: 0.0333\n",
      "Epoch 16/80\n",
      "15/15 [==============================] - 18s 1s/step - loss: 3.9527 - accuracy: 0.0271 - val_loss: 4.0649 - val_accuracy: 0.0083\n",
      "Epoch 17/80\n",
      "15/15 [==============================] - 19s 1s/step - loss: 3.9352 - accuracy: 0.0250 - val_loss: 4.0837 - val_accuracy: 0.0083\n",
      "Epoch 18/80\n",
      "15/15 [==============================] - 18s 1s/step - loss: 3.9201 - accuracy: 0.0271 - val_loss: 4.0708 - val_accuracy: 0.0083\n",
      "Epoch 19/80\n",
      "15/15 [==============================] - 18s 1s/step - loss: 3.9186 - accuracy: 0.0354 - val_loss: 4.1053 - val_accuracy: 0.0000e+00\n",
      "Epoch 20/80\n",
      "15/15 [==============================] - 18s 1s/step - loss: 3.9286 - accuracy: 0.0167 - val_loss: 4.1185 - val_accuracy: 0.0083\n",
      "Epoch 21/80\n",
      "15/15 [==============================] - 18s 1s/step - loss: 3.9245 - accuracy: 0.0146 - val_loss: 4.0681 - val_accuracy: 0.0000e+00\n",
      "Epoch 22/80\n",
      "15/15 [==============================] - 18s 1s/step - loss: 3.9336 - accuracy: 0.0188 - val_loss: 4.0716 - val_accuracy: 0.0000e+00\n",
      "Epoch 23/80\n",
      "15/15 [==============================] - 18s 1s/step - loss: 3.9191 - accuracy: 0.0229 - val_loss: 4.1370 - val_accuracy: 0.0083\n",
      "Epoch 24/80\n",
      "15/15 [==============================] - 18s 1s/step - loss: 3.9213 - accuracy: 0.0250 - val_loss: 4.0888 - val_accuracy: 0.0000e+00\n",
      "Epoch 25/80\n",
      "15/15 [==============================] - 18s 1s/step - loss: 3.9312 - accuracy: 0.0250 - val_loss: 4.0660 - val_accuracy: 0.0083\n",
      "Epoch 26/80\n",
      "15/15 [==============================] - 18s 1s/step - loss: 3.9190 - accuracy: 0.0229 - val_loss: 4.0487 - val_accuracy: 0.0083\n",
      "Epoch 27/80\n",
      "15/15 [==============================] - 18s 1s/step - loss: 3.9109 - accuracy: 0.0292 - val_loss: 4.0651 - val_accuracy: 0.0000e+00\n",
      "Epoch 28/80\n",
      "15/15 [==============================] - 19s 1s/step - loss: 3.9221 - accuracy: 0.0417 - val_loss: 4.0846 - val_accuracy: 0.0083\n",
      "Epoch 29/80\n",
      "15/15 [==============================] - 18s 1s/step - loss: 3.9138 - accuracy: 0.0292 - val_loss: 4.0621 - val_accuracy: 0.0000e+00\n",
      "Epoch 30/80\n",
      "15/15 [==============================] - 18s 1s/step - loss: 3.9139 - accuracy: 0.0229 - val_loss: 4.1223 - val_accuracy: 0.0000e+00\n",
      "Epoch 31/80\n",
      "15/15 [==============================] - 18s 1s/step - loss: 3.9109 - accuracy: 0.0146 - val_loss: 4.0653 - val_accuracy: 0.0083\n",
      "Epoch 32/80\n",
      "15/15 [==============================] - 18s 1s/step - loss: 3.9255 - accuracy: 0.0250 - val_loss: 4.0952 - val_accuracy: 0.0083\n",
      "Epoch 33/80\n",
      "15/15 [==============================] - 18s 1s/step - loss: 3.9822 - accuracy: 0.0312 - val_loss: 4.2379 - val_accuracy: 0.0167\n",
      "Epoch 34/80\n",
      "15/15 [==============================] - 18s 1s/step - loss: 3.9374 - accuracy: 0.0146 - val_loss: 4.0974 - val_accuracy: 0.0083\n",
      "Epoch 35/80\n",
      "15/15 [==============================] - 18s 1s/step - loss: 3.9075 - accuracy: 0.0208 - val_loss: 4.0675 - val_accuracy: 0.0167\n",
      "Epoch 36/80\n",
      "15/15 [==============================] - 18s 1s/step - loss: 3.9101 - accuracy: 0.0250 - val_loss: 4.1096 - val_accuracy: 0.0083\n",
      "Epoch 37/80\n",
      "15/15 [==============================] - 18s 1s/step - loss: 3.9278 - accuracy: 0.0229 - val_loss: 4.1951 - val_accuracy: 0.0333\n",
      "Epoch 38/80\n",
      "15/15 [==============================] - 18s 1s/step - loss: 3.9565 - accuracy: 0.0229 - val_loss: 4.0433 - val_accuracy: 0.0250\n",
      "Epoch 39/80\n",
      "15/15 [==============================] - 18s 1s/step - loss: 3.9067 - accuracy: 0.0229 - val_loss: 4.1018 - val_accuracy: 0.0083\n",
      "Epoch 40/80\n",
      "15/15 [==============================] - 18s 1s/step - loss: 3.9055 - accuracy: 0.0229 - val_loss: 4.0357 - val_accuracy: 0.0083\n",
      "Epoch 41/80\n",
      "15/15 [==============================] - 18s 1s/step - loss: 3.9172 - accuracy: 0.0333 - val_loss: 4.0328 - val_accuracy: 0.0000e+00\n",
      "Epoch 42/80\n",
      "15/15 [==============================] - 18s 1s/step - loss: 3.9093 - accuracy: 0.0312 - val_loss: 4.1169 - val_accuracy: 0.0167\n",
      "Epoch 43/80\n",
      "15/15 [==============================] - 18s 1s/step - loss: 3.9068 - accuracy: 0.0271 - val_loss: 4.1791 - val_accuracy: 0.0083\n",
      "Epoch 44/80\n",
      "15/15 [==============================] - 18s 1s/step - loss: 3.9063 - accuracy: 0.0250 - val_loss: 4.1052 - val_accuracy: 0.0083\n",
      "Epoch 45/80\n",
      "15/15 [==============================] - 18s 1s/step - loss: 3.9032 - accuracy: 0.0229 - val_loss: 4.0948 - val_accuracy: 0.0083\n",
      "Epoch 46/80\n",
      "15/15 [==============================] - 18s 1s/step - loss: 3.8915 - accuracy: 0.0312 - val_loss: 4.0179 - val_accuracy: 0.0000e+00\n",
      "Epoch 47/80\n",
      "15/15 [==============================] - 18s 1s/step - loss: 3.9147 - accuracy: 0.0208 - val_loss: 4.0193 - val_accuracy: 0.0083\n",
      "Epoch 48/80\n",
      "15/15 [==============================] - 18s 1s/step - loss: 3.9081 - accuracy: 0.0083 - val_loss: 4.0959 - val_accuracy: 0.0000e+00\n",
      "Epoch 49/80\n",
      "15/15 [==============================] - 18s 1s/step - loss: 3.9119 - accuracy: 0.0146 - val_loss: 4.1317 - val_accuracy: 0.0167\n",
      "Epoch 50/80\n",
      "15/15 [==============================] - 18s 1s/step - loss: 3.8971 - accuracy: 0.0354 - val_loss: 4.1139 - val_accuracy: 0.0083\n",
      "Epoch 51/80\n",
      "15/15 [==============================] - 18s 1s/step - loss: 3.9068 - accuracy: 0.0146 - val_loss: 4.2524 - val_accuracy: 0.0083\n",
      "Epoch 52/80\n",
      "15/15 [==============================] - 18s 1s/step - loss: 3.9482 - accuracy: 0.0271 - val_loss: 4.0744 - val_accuracy: 0.0083\n",
      "Epoch 53/80\n",
      "15/15 [==============================] - 18s 1s/step - loss: 3.9038 - accuracy: 0.0250 - val_loss: 4.0588 - val_accuracy: 0.0167\n",
      "Epoch 54/80\n",
      "15/15 [==============================] - 18s 1s/step - loss: 80171763761152.0000 - accuracy: 0.0250 - val_loss: 206897315577856.0000 - val_accuracy: 0.0083\n",
      "Epoch 55/80\n",
      "15/15 [==============================] - 18s 1s/step - loss: 149510881804288.0000 - accuracy: 0.0167 - val_loss: 727839539200.0000 - val_accuracy: 0.0083\n",
      "Epoch 56/80\n",
      "15/15 [==============================] - 18s 1s/step - loss: 388759617536.0000 - accuracy: 0.0167 - val_loss: 75321540608.0000 - val_accuracy: 0.0333\n",
      "Epoch 57/80\n",
      "15/15 [==============================] - 18s 1s/step - loss: 132793999360.0000 - accuracy: 0.0292 - val_loss: 47074631680.0000 - val_accuracy: 0.0083\n",
      "Epoch 58/80\n",
      " 6/15 [===========>..................] - ETA: 10s - loss: 124651962368.0000 - accuracy: 0.0052"
     ]
    },
    {
     "ename": "KeyboardInterrupt",
     "evalue": "",
     "output_type": "error",
     "traceback": [
      "\u001b[0;31m---------------------------------------------------------------------------\u001b[0m",
      "\u001b[0;31mKeyboardInterrupt\u001b[0m                         Traceback (most recent call last)",
      "\u001b[0;32m/var/folders/wf/wnvt2sps3zbgxgxfcbpbw7xm0000gn/T/ipykernel_11251/1062102965.py\u001b[0m in \u001b[0;36m<module>\u001b[0;34m\u001b[0m\n\u001b[1;32m      5\u001b[0m \u001b[0mprint\u001b[0m\u001b[0;34m(\u001b[0m\u001b[0;34m\"\\n ========================================================== \\n\"\u001b[0m\u001b[0;34m)\u001b[0m\u001b[0;34m\u001b[0m\u001b[0;34m\u001b[0m\u001b[0m\n\u001b[1;32m      6\u001b[0m \u001b[0;34m\u001b[0m\u001b[0m\n\u001b[0;32m----> 7\u001b[0;31m \u001b[0mtrained_model\u001b[0m \u001b[0;34m=\u001b[0m \u001b[0mmodel_zfnet\u001b[0m\u001b[0;34m.\u001b[0m\u001b[0mfit\u001b[0m\u001b[0;34m(\u001b[0m\u001b[0mX_train\u001b[0m\u001b[0;34m,\u001b[0m \u001b[0my_train\u001b[0m\u001b[0;34m,\u001b[0m \u001b[0mvalidation_data\u001b[0m\u001b[0;34m=\u001b[0m\u001b[0;34m(\u001b[0m\u001b[0mX_temp\u001b[0m\u001b[0;34m,\u001b[0m \u001b[0my_temp\u001b[0m\u001b[0;34m)\u001b[0m\u001b[0;34m,\u001b[0m \u001b[0mepochs\u001b[0m\u001b[0;34m=\u001b[0m\u001b[0mepochs\u001b[0m\u001b[0;34m)\u001b[0m\u001b[0;34m\u001b[0m\u001b[0;34m\u001b[0m\u001b[0m\n\u001b[0m",
      "\u001b[0;32m/opt/homebrew/Caskroom/miniforge/base/envs/tftest/lib/python3.9/site-packages/keras/engine/training.py\u001b[0m in \u001b[0;36mfit\u001b[0;34m(self, x, y, batch_size, epochs, verbose, callbacks, validation_split, validation_data, shuffle, class_weight, sample_weight, initial_epoch, steps_per_epoch, validation_steps, validation_batch_size, validation_freq, max_queue_size, workers, use_multiprocessing)\u001b[0m\n\u001b[1;32m   1182\u001b[0m                 _r=1):\n\u001b[1;32m   1183\u001b[0m               \u001b[0mcallbacks\u001b[0m\u001b[0;34m.\u001b[0m\u001b[0mon_train_batch_begin\u001b[0m\u001b[0;34m(\u001b[0m\u001b[0mstep\u001b[0m\u001b[0;34m)\u001b[0m\u001b[0;34m\u001b[0m\u001b[0;34m\u001b[0m\u001b[0m\n\u001b[0;32m-> 1184\u001b[0;31m               \u001b[0mtmp_logs\u001b[0m \u001b[0;34m=\u001b[0m \u001b[0mself\u001b[0m\u001b[0;34m.\u001b[0m\u001b[0mtrain_function\u001b[0m\u001b[0;34m(\u001b[0m\u001b[0miterator\u001b[0m\u001b[0;34m)\u001b[0m\u001b[0;34m\u001b[0m\u001b[0;34m\u001b[0m\u001b[0m\n\u001b[0m\u001b[1;32m   1185\u001b[0m               \u001b[0;32mif\u001b[0m \u001b[0mdata_handler\u001b[0m\u001b[0;34m.\u001b[0m\u001b[0mshould_sync\u001b[0m\u001b[0;34m:\u001b[0m\u001b[0;34m\u001b[0m\u001b[0;34m\u001b[0m\u001b[0m\n\u001b[1;32m   1186\u001b[0m                 \u001b[0mcontext\u001b[0m\u001b[0;34m.\u001b[0m\u001b[0masync_wait\u001b[0m\u001b[0;34m(\u001b[0m\u001b[0;34m)\u001b[0m\u001b[0;34m\u001b[0m\u001b[0;34m\u001b[0m\u001b[0m\n",
      "\u001b[0;32m/opt/homebrew/Caskroom/miniforge/base/envs/tftest/lib/python3.9/site-packages/tensorflow/python/eager/def_function.py\u001b[0m in \u001b[0;36m__call__\u001b[0;34m(self, *args, **kwds)\u001b[0m\n\u001b[1;32m    883\u001b[0m \u001b[0;34m\u001b[0m\u001b[0m\n\u001b[1;32m    884\u001b[0m       \u001b[0;32mwith\u001b[0m \u001b[0mOptionalXlaContext\u001b[0m\u001b[0;34m(\u001b[0m\u001b[0mself\u001b[0m\u001b[0;34m.\u001b[0m\u001b[0m_jit_compile\u001b[0m\u001b[0;34m)\u001b[0m\u001b[0;34m:\u001b[0m\u001b[0;34m\u001b[0m\u001b[0;34m\u001b[0m\u001b[0m\n\u001b[0;32m--> 885\u001b[0;31m         \u001b[0mresult\u001b[0m \u001b[0;34m=\u001b[0m \u001b[0mself\u001b[0m\u001b[0;34m.\u001b[0m\u001b[0m_call\u001b[0m\u001b[0;34m(\u001b[0m\u001b[0;34m*\u001b[0m\u001b[0margs\u001b[0m\u001b[0;34m,\u001b[0m \u001b[0;34m**\u001b[0m\u001b[0mkwds\u001b[0m\u001b[0;34m)\u001b[0m\u001b[0;34m\u001b[0m\u001b[0;34m\u001b[0m\u001b[0m\n\u001b[0m\u001b[1;32m    886\u001b[0m \u001b[0;34m\u001b[0m\u001b[0m\n\u001b[1;32m    887\u001b[0m       \u001b[0mnew_tracing_count\u001b[0m \u001b[0;34m=\u001b[0m \u001b[0mself\u001b[0m\u001b[0;34m.\u001b[0m\u001b[0mexperimental_get_tracing_count\u001b[0m\u001b[0;34m(\u001b[0m\u001b[0;34m)\u001b[0m\u001b[0;34m\u001b[0m\u001b[0;34m\u001b[0m\u001b[0m\n",
      "\u001b[0;32m/opt/homebrew/Caskroom/miniforge/base/envs/tftest/lib/python3.9/site-packages/tensorflow/python/eager/def_function.py\u001b[0m in \u001b[0;36m_call\u001b[0;34m(self, *args, **kwds)\u001b[0m\n\u001b[1;32m    915\u001b[0m       \u001b[0;31m# In this case we have created variables on the first call, so we run the\u001b[0m\u001b[0;34m\u001b[0m\u001b[0;34m\u001b[0m\u001b[0m\n\u001b[1;32m    916\u001b[0m       \u001b[0;31m# defunned version which is guaranteed to never create variables.\u001b[0m\u001b[0;34m\u001b[0m\u001b[0;34m\u001b[0m\u001b[0m\n\u001b[0;32m--> 917\u001b[0;31m       \u001b[0;32mreturn\u001b[0m \u001b[0mself\u001b[0m\u001b[0;34m.\u001b[0m\u001b[0m_stateless_fn\u001b[0m\u001b[0;34m(\u001b[0m\u001b[0;34m*\u001b[0m\u001b[0margs\u001b[0m\u001b[0;34m,\u001b[0m \u001b[0;34m**\u001b[0m\u001b[0mkwds\u001b[0m\u001b[0;34m)\u001b[0m  \u001b[0;31m# pylint: disable=not-callable\u001b[0m\u001b[0;34m\u001b[0m\u001b[0;34m\u001b[0m\u001b[0m\n\u001b[0m\u001b[1;32m    918\u001b[0m     \u001b[0;32melif\u001b[0m \u001b[0mself\u001b[0m\u001b[0;34m.\u001b[0m\u001b[0m_stateful_fn\u001b[0m \u001b[0;32mis\u001b[0m \u001b[0;32mnot\u001b[0m \u001b[0;32mNone\u001b[0m\u001b[0;34m:\u001b[0m\u001b[0;34m\u001b[0m\u001b[0;34m\u001b[0m\u001b[0m\n\u001b[1;32m    919\u001b[0m       \u001b[0;31m# Release the lock early so that multiple threads can perform the call\u001b[0m\u001b[0;34m\u001b[0m\u001b[0;34m\u001b[0m\u001b[0m\n",
      "\u001b[0;32m/opt/homebrew/Caskroom/miniforge/base/envs/tftest/lib/python3.9/site-packages/tensorflow/python/eager/function.py\u001b[0m in \u001b[0;36m__call__\u001b[0;34m(self, *args, **kwargs)\u001b[0m\n\u001b[1;32m   3037\u001b[0m       (graph_function,\n\u001b[1;32m   3038\u001b[0m        filtered_flat_args) = self._maybe_define_function(args, kwargs)\n\u001b[0;32m-> 3039\u001b[0;31m     return graph_function._call_flat(\n\u001b[0m\u001b[1;32m   3040\u001b[0m         filtered_flat_args, captured_inputs=graph_function.captured_inputs)  # pylint: disable=protected-access\n\u001b[1;32m   3041\u001b[0m \u001b[0;34m\u001b[0m\u001b[0m\n",
      "\u001b[0;32m/opt/homebrew/Caskroom/miniforge/base/envs/tftest/lib/python3.9/site-packages/tensorflow/python/eager/function.py\u001b[0m in \u001b[0;36m_call_flat\u001b[0;34m(self, args, captured_inputs, cancellation_manager)\u001b[0m\n\u001b[1;32m   1961\u001b[0m         and executing_eagerly):\n\u001b[1;32m   1962\u001b[0m       \u001b[0;31m# No tape is watching; skip to running the function.\u001b[0m\u001b[0;34m\u001b[0m\u001b[0;34m\u001b[0m\u001b[0m\n\u001b[0;32m-> 1963\u001b[0;31m       return self._build_call_outputs(self._inference_function.call(\n\u001b[0m\u001b[1;32m   1964\u001b[0m           ctx, args, cancellation_manager=cancellation_manager))\n\u001b[1;32m   1965\u001b[0m     forward_backward = self._select_forward_and_backward_functions(\n",
      "\u001b[0;32m/opt/homebrew/Caskroom/miniforge/base/envs/tftest/lib/python3.9/site-packages/tensorflow/python/eager/function.py\u001b[0m in \u001b[0;36mcall\u001b[0;34m(self, ctx, args, cancellation_manager)\u001b[0m\n\u001b[1;32m    589\u001b[0m       \u001b[0;32mwith\u001b[0m \u001b[0m_InterpolateFunctionError\u001b[0m\u001b[0;34m(\u001b[0m\u001b[0mself\u001b[0m\u001b[0;34m)\u001b[0m\u001b[0;34m:\u001b[0m\u001b[0;34m\u001b[0m\u001b[0;34m\u001b[0m\u001b[0m\n\u001b[1;32m    590\u001b[0m         \u001b[0;32mif\u001b[0m \u001b[0mcancellation_manager\u001b[0m \u001b[0;32mis\u001b[0m \u001b[0;32mNone\u001b[0m\u001b[0;34m:\u001b[0m\u001b[0;34m\u001b[0m\u001b[0;34m\u001b[0m\u001b[0m\n\u001b[0;32m--> 591\u001b[0;31m           outputs = execute.execute(\n\u001b[0m\u001b[1;32m    592\u001b[0m               \u001b[0mstr\u001b[0m\u001b[0;34m(\u001b[0m\u001b[0mself\u001b[0m\u001b[0;34m.\u001b[0m\u001b[0msignature\u001b[0m\u001b[0;34m.\u001b[0m\u001b[0mname\u001b[0m\u001b[0;34m)\u001b[0m\u001b[0;34m,\u001b[0m\u001b[0;34m\u001b[0m\u001b[0;34m\u001b[0m\u001b[0m\n\u001b[1;32m    593\u001b[0m               \u001b[0mnum_outputs\u001b[0m\u001b[0;34m=\u001b[0m\u001b[0mself\u001b[0m\u001b[0;34m.\u001b[0m\u001b[0m_num_outputs\u001b[0m\u001b[0;34m,\u001b[0m\u001b[0;34m\u001b[0m\u001b[0;34m\u001b[0m\u001b[0m\n",
      "\u001b[0;32m/opt/homebrew/Caskroom/miniforge/base/envs/tftest/lib/python3.9/site-packages/tensorflow/python/eager/execute.py\u001b[0m in \u001b[0;36mquick_execute\u001b[0;34m(op_name, num_outputs, inputs, attrs, ctx, name)\u001b[0m\n\u001b[1;32m     57\u001b[0m   \u001b[0;32mtry\u001b[0m\u001b[0;34m:\u001b[0m\u001b[0;34m\u001b[0m\u001b[0;34m\u001b[0m\u001b[0m\n\u001b[1;32m     58\u001b[0m     \u001b[0mctx\u001b[0m\u001b[0;34m.\u001b[0m\u001b[0mensure_initialized\u001b[0m\u001b[0;34m(\u001b[0m\u001b[0;34m)\u001b[0m\u001b[0;34m\u001b[0m\u001b[0;34m\u001b[0m\u001b[0m\n\u001b[0;32m---> 59\u001b[0;31m     tensors = pywrap_tfe.TFE_Py_Execute(ctx._handle, device_name, op_name,\n\u001b[0m\u001b[1;32m     60\u001b[0m                                         inputs, attrs, num_outputs)\n\u001b[1;32m     61\u001b[0m   \u001b[0;32mexcept\u001b[0m \u001b[0mcore\u001b[0m\u001b[0;34m.\u001b[0m\u001b[0m_NotOkStatusException\u001b[0m \u001b[0;32mas\u001b[0m \u001b[0me\u001b[0m\u001b[0;34m:\u001b[0m\u001b[0;34m\u001b[0m\u001b[0;34m\u001b[0m\u001b[0m\n",
      "\u001b[0;31mKeyboardInterrupt\u001b[0m: "
     ]
    }
   ],
   "source": [
    "epochs = 80\n",
    "batch_size = 50\n",
    "print(\"\\n ================= Training : ZFNET model ================= \\n\")\n",
    "print(\"  Epochs :  {}   |   Batch size : {} \".format(epochs, batch_size))\n",
    "print(\"\\n ========================================================== \\n\")\n",
    "\n",
    "trained_model = model_zfnet.fit(X_train, y_train, validation_data=(X_temp, y_temp), epochs=epochs)"
   ]
  },
  {
   "cell_type": "code",
   "execution_count": null,
   "id": "f5b70f1e-9d55-467b-9e59-adc67f06abcf",
   "metadata": {},
   "outputs": [],
   "source": [
    "val = model_zfnet.evaluate(X_temp, y_temp, verbose=0)\n",
    "\n",
    "print(\"\\n ================= Evaluation : ZFNET model ================= \\n\")\n",
    "print(\"  With : \\n\")\n",
    "print(\"Batch size         :  {}    |   Epochs      : {} \".format(batch_size, epochs))\n",
    "print(\"Nombres de classes :  {}    |   Input shape : {} \\n\".format(Nombre_classes, input_shape))\n",
    "print(\"--------------------------------------------------------------\")\n",
    "print(\"  Results : \\n\")\n",
    "print(\"Loss  : %.2f%%\" % (val[0] * 100))\n",
    "print(\"Score : %.2f%%\" % (val[1] * 100))"
   ]
  },
  {
   "cell_type": "code",
   "execution_count": null,
   "id": "ef13db22-d122-4d4a-b727-85efab23aaeb",
   "metadata": {},
   "outputs": [],
   "source": [
    "epoch = 80\n",
    "batch_size = 50\n",
    "\n",
    "datagen = ImageDataGenerator(\n",
    "        featurewise_center=False,  # set input mean to 0 over the dataset\n",
    "        samplewise_center=False,  # set each sample mean to 0\n",
    "        featurewise_std_normalization=False,  # divide inputs by std of the dataset\n",
    "        samplewise_std_normalization=False,  # divide each input by its std\n",
    "        zca_whitening=False,  # apply ZCA whitening\n",
    "        rotation_range=5,  # randomly rotate images in the range (degrees, 0 to 180)\n",
    "        zoom_range = 0.05, # Randomly zoom image \n",
    "        width_shift_range=0,  # randomly shift images horizontally (fraction of total width)\n",
    "        height_shift_range=0,  # randomly shift images vertically (fraction of total height)\n",
    "        horizontal_flip=False,  # randomly flip images\n",
    "        vertical_flip=False)  # randomly flip images\n",
    "datagen.fit(X_train)\n",
    "\n",
    "history = model_zfnet.fit_generator(\n",
    "                              datagen.flow(X_train,y_train, batch_size=batch_size),\n",
    "                              epochs = epoch, \n",
    "                              validation_data = (X_temp,y_temp),\n",
    "                              steps_per_epoch=X_train.shape[0] // batch_size\n",
    "                             )"
   ]
  },
  {
   "cell_type": "code",
   "execution_count": null,
   "id": "09b37267-1446-45d8-ad63-1a2d9024dda2",
   "metadata": {},
   "outputs": [],
   "source": [
    "model_zfnet.evaluate(X_temp, y_temp)"
   ]
  },
  {
   "cell_type": "code",
   "execution_count": null,
   "id": "1c3b6bb3-05ed-4236-9263-1770d5e61245",
   "metadata": {},
   "outputs": [],
   "source": []
  }
 ],
 "metadata": {
  "kernelspec": {
   "display_name": "tftest",
   "language": "python",
   "name": "tftest"
  },
  "language_info": {
   "codemirror_mode": {
    "name": "ipython",
    "version": 3
   },
   "file_extension": ".py",
   "mimetype": "text/x-python",
   "name": "python",
   "nbconvert_exporter": "python",
   "pygments_lexer": "ipython3",
   "version": "3.9.7"
  }
 },
 "nbformat": 4,
 "nbformat_minor": 5
}
