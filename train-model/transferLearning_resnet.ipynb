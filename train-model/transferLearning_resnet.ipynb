{
 "cells": [
  {
   "cell_type": "code",
   "execution_count": 1,
   "id": "ed86aefc-f6d0-455d-9aef-bc0b5681cd28",
   "metadata": {},
   "outputs": [],
   "source": [
    "import gc\n",
    "import glob\n",
    "import os\n",
    "import sys\n",
    "import cv2\n",
    "import numpy as np\n",
    "import tensorflow as tf\n",
    "from matplotlib import pyplot as plt\n",
    "from random import randrange\n",
    "from tqdm import tqdm, tnrange\n",
    "from tqdm.notebook import tqdm_notebook\n",
    "\n",
    "import warnings\n",
    "\n",
    "from sklearn.model_selection import RandomizedSearchCV\n",
    "from sklearn.model_selection import train_test_split\n",
    "\n",
    "from keras.optimizer_v2.gradient_descent import SGD\n",
    "from keras.wrappers.scikit_learn import KerasClassifier\n",
    "from keras.callbacks import ReduceLROnPlateau\n",
    "from keras.layers import Dense, MaxPooling2D, Flatten, Conv2D, Lambda, Dropout, LeakyReLU, BatchNormalization, Activation, AveragePooling2D, GlobalAveragePooling2D\n",
    "from keras.models import Sequential\n",
    "from keras.preprocessing.image import ImageDataGenerator\n",
    "\n",
    "from mlxtend.evaluate import accuracy\n",
    "\n",
    "from tensorflow.keras.optimizers import Adam,RMSprop,SGD, Nadam\n",
    "#from tensorflow.keras.utils import to_categorical\n",
    "from keras.utils.np_utils import to_categorical # convert to one-hot-encoding\n",
    "from tensorflow.keras.applications import VGG16"
   ]
  },
  {
   "cell_type": "code",
   "execution_count": 2,
   "id": "c5a213c9-c03b-4f1b-a3a0-6e5333383da8",
   "metadata": {},
   "outputs": [],
   "source": [
    "os.environ['TF_CPP_MIN_LOG_LEVEL'] = '2'  # ignore tensorflow warnings\n",
    "warnings.filterwarnings(\"ignore\")"
   ]
  },
  {
   "cell_type": "code",
   "execution_count": 3,
   "id": "ba48d5e6-43f0-4a79-bdf1-366aac61855c",
   "metadata": {},
   "outputs": [],
   "source": [
    "path_data = \"data/data_palm_vein/NIR\""
   ]
  },
  {
   "cell_type": "code",
   "execution_count": 4,
   "id": "6ce62474-4908-4ad6-8814-4b41795aa7e8",
   "metadata": {},
   "outputs": [
    {
     "name": "stdout",
     "output_type": "stream",
     "text": [
      "Found 6000 files belonging to 500 classes.\n",
      "Using 4800 files for training.\n",
      "Metal device set to: Apple M1\n"
     ]
    }
   ],
   "source": [
    "train_ds = tf.keras.preprocessing.image_dataset_from_directory(\n",
    "    path_data,\n",
    "    labels=\"inferred\",\n",
    "    label_mode=\"categorical\",\n",
    "    class_names=None,\n",
    "    color_mode=\"rgb\",\n",
    "    batch_size=32,\n",
    "    image_size=(128, 128),\n",
    "    shuffle=True,\n",
    "    seed=1007,\n",
    "    validation_split=0.2,\n",
    "    subset=\"training\",\n",
    "    interpolation=\"bilinear\",\n",
    "    follow_links=False,\n",
    "    crop_to_aspect_ratio=False,\n",
    ")\n"
   ]
  },
  {
   "cell_type": "code",
   "execution_count": 8,
   "id": "c0fbd595-42be-40bb-859c-9090d02a838d",
   "metadata": {},
   "outputs": [
    {
     "name": "stdout",
     "output_type": "stream",
     "text": [
      "Found 6000 files belonging to 500 classes.\n",
      "Using 900 files for validation.\n"
     ]
    }
   ],
   "source": [
    "val_ds = tf.keras.preprocessing.image_dataset_from_directory(\n",
    "    path_data,\n",
    "    labels=\"inferred\",\n",
    "    label_mode=\"categorical\",\n",
    "    class_names=None,\n",
    "    color_mode=\"rgb\",\n",
    "    batch_size=32,\n",
    "    image_size=(128, 128),\n",
    "    shuffle=True,\n",
    "    seed=1007,\n",
    "    validation_split=0.15,\n",
    "    subset=\"validation\",\n",
    "    interpolation=\"bilinear\",\n",
    "    follow_links=False,\n",
    "    crop_to_aspect_ratio=False,\n",
    ")"
   ]
  },
  {
   "cell_type": "code",
   "execution_count": 9,
   "id": "d0790bf7-e934-411a-a916-cc9be1801f1d",
   "metadata": {},
   "outputs": [
    {
     "name": "stdout",
     "output_type": "stream",
     "text": [
      "Found 6000 files belonging to 500 classes.\n",
      "Using 900 files for validation.\n"
     ]
    }
   ],
   "source": [
    "test_ds = tf.keras.preprocessing.image_dataset_from_directory(\n",
    "    path_data,\n",
    "    labels=\"inferred\",\n",
    "    label_mode=\"categorical\",\n",
    "    class_names=None,\n",
    "    color_mode=\"rgb\",\n",
    "    batch_size=32,\n",
    "    image_size=(128, 128),\n",
    "    shuffle=True,\n",
    "    seed=1007,\n",
    "    validation_split=0.15,\n",
    "    subset=\"validation\",\n",
    "    interpolation=\"bilinear\",\n",
    "    follow_links=False,\n",
    "    crop_to_aspect_ratio=False,\n",
    ")"
   ]
  },
  {
   "cell_type": "code",
   "execution_count": 10,
   "id": "d9402b5c-c092-4e97-9e4b-8fdc1510d628",
   "metadata": {},
   "outputs": [],
   "source": [
    "from keras.applications.resnet_v2 import ResNet152V2\n",
    "\n",
    "def resnet_model_tf(input_shape=(128, 128, 3), nombre_classes=500):\n",
    "    resnet = ResNet152V2(weights='imagenet', include_top=False, input_shape=input_shape)\n",
    "    resnet.tbatch_sizenable = False\n",
    "    model = Sequential()\n",
    "    model.add(resnet)\n",
    "    model.add(Flatten())\n",
    "    model.add(Dense(4096, activation='LeakyReLU'))\n",
    "    model.add(Dropout(0.5))\n",
    "    model.add(Dense(4096, activation='LeakyReLU'))\n",
    "    model.add(Dropout(0.5))\n",
    "    model.add(Dense(nombre_classes, activation='softmax'))\n",
    "    \n",
    "    print(model.summary())\n",
    "    model.compile(loss='categorical_crossentropy', optimizer='nadam', metrics=['accuracy'])\n",
    "    learning_rate_reduction = ReduceLROnPlateau(monitor='val_accuracy', \n",
    "                                            patience=2, \n",
    "                                            verbose=1, \n",
    "                                            factor=0.7, \n",
    "                                            min_lr=0.00000000001)\n",
    "    return model, learning_rate_reduction"
   ]
  },
  {
   "cell_type": "code",
   "execution_count": 11,
   "id": "33afcb1f-8954-4f2c-82fc-c45854989d5d",
   "metadata": {},
   "outputs": [
    {
     "name": "stdout",
     "output_type": "stream",
     "text": [
      "Model: \"sequential\"\n",
      "_________________________________________________________________\n",
      "Layer (type)                 Output Shape              Param #   \n",
      "=================================================================\n",
      "resnet152v2 (Functional)     (None, 4, 4, 2048)        58331648  \n",
      "_________________________________________________________________\n",
      "flatten (Flatten)            (None, 32768)             0         \n",
      "_________________________________________________________________\n",
      "dense (Dense)                (None, 4096)              134221824 \n",
      "_________________________________________________________________\n",
      "dropout (Dropout)            (None, 4096)              0         \n",
      "_________________________________________________________________\n",
      "dense_1 (Dense)              (None, 4096)              16781312  \n",
      "_________________________________________________________________\n",
      "dropout_1 (Dropout)          (None, 4096)              0         \n",
      "_________________________________________________________________\n",
      "dense_2 (Dense)              (None, 500)               2048500   \n",
      "=================================================================\n",
      "Total params: 211,383,284\n",
      "Trainable params: 211,239,540\n",
      "Non-trainable params: 143,744\n",
      "_________________________________________________________________\n",
      "None\n"
     ]
    }
   ],
   "source": [
    "model, learning_rate_reduction = resnet_model_tf()"
   ]
  },
  {
   "cell_type": "code",
   "execution_count": 12,
   "id": "70c38539-3f7c-40d1-a98c-00401c8b6d42",
   "metadata": {},
   "outputs": [
    {
     "name": "stdout",
     "output_type": "stream",
     "text": [
      "\n",
      " ================= Training : RESNET model ================= \n",
      "\n",
      "             Epochs :  20   |   Batch size : 32 \n",
      "\n",
      " =========================================================== \n",
      "\n",
      "Epoch 1/20\n",
      "150/150 [==============================] - 307s 2s/step - loss: 6.0652 - accuracy: 0.0302 - val_loss: 6.2914 - val_accuracy: 0.0056\n",
      "Epoch 2/20\n",
      "150/150 [==============================] - 289s 2s/step - loss: 2.7147 - accuracy: 0.4290 - val_loss: 7.3963 - val_accuracy: 0.0422\n",
      "Epoch 3/20\n",
      "150/150 [==============================] - 300s 2s/step - loss: 0.8125 - accuracy: 0.8042 - val_loss: 5.5744 - val_accuracy: 0.3767\n",
      "Epoch 4/20\n",
      "150/150 [==============================] - 290s 2s/step - loss: 0.5556 - accuracy: 0.8729 - val_loss: 26.4214 - val_accuracy: 0.0411\n",
      "Epoch 5/20\n",
      "150/150 [==============================] - 1226s 8s/step - loss: 0.7357 - accuracy: 0.8512 - val_loss: 27.7724 - val_accuracy: 0.0622\n",
      "\n",
      "Epoch 00005: ReduceLROnPlateau reducing learning rate to 0.0007000000332482159.\n",
      "Epoch 6/20\n",
      "150/150 [==============================] - 310s 2s/step - loss: 0.1730 - accuracy: 0.9606 - val_loss: 0.3331 - val_accuracy: 0.9178\n",
      "Epoch 7/20\n",
      "150/150 [==============================] - 290s 2s/step - loss: 0.0511 - accuracy: 0.9869 - val_loss: 4.7859 - val_accuracy: 0.5611\n",
      "Epoch 8/20\n",
      "150/150 [==============================] - 295s 2s/step - loss: 0.0718 - accuracy: 0.9833 - val_loss: 1.8297 - val_accuracy: 0.7000\n",
      "\n",
      "Epoch 00008: ReduceLROnPlateau reducing learning rate to 0.0004900000232737511.\n",
      "Epoch 9/20\n",
      "150/150 [==============================] - 293s 2s/step - loss: 0.0423 - accuracy: 0.9902 - val_loss: 1.7209 - val_accuracy: 0.7344\n",
      "Epoch 10/20\n",
      "150/150 [==============================] - 288s 2s/step - loss: 0.0088 - accuracy: 0.9975 - val_loss: 0.1472 - val_accuracy: 0.9689\n",
      "Epoch 11/20\n",
      "150/150 [==============================] - 292s 2s/step - loss: 0.0138 - accuracy: 0.9958 - val_loss: 2.1533 - val_accuracy: 0.6878\n",
      "Epoch 12/20\n",
      "150/150 [==============================] - 297s 2s/step - loss: 0.0156 - accuracy: 0.9950 - val_loss: 0.1234 - val_accuracy: 0.9656\n",
      "\n",
      "Epoch 00012: ReduceLROnPlateau reducing learning rate to 0.00034300000406801696.\n",
      "Epoch 13/20\n",
      "150/150 [==============================] - 294s 2s/step - loss: 0.0141 - accuracy: 0.9963 - val_loss: 0.0308 - val_accuracy: 0.9900\n",
      "Epoch 14/20\n",
      "150/150 [==============================] - 288s 2s/step - loss: 0.0021 - accuracy: 0.9994 - val_loss: 0.0325 - val_accuracy: 0.9911\n",
      "Epoch 15/20\n",
      "150/150 [==============================] - 306s 2s/step - loss: 0.0196 - accuracy: 0.9950 - val_loss: 0.1644 - val_accuracy: 0.9656\n",
      "Epoch 16/20\n",
      "150/150 [==============================] - 303s 2s/step - loss: 0.0132 - accuracy: 0.9960 - val_loss: 0.0690 - val_accuracy: 0.9789\n",
      "\n",
      "Epoch 00016: ReduceLROnPlateau reducing learning rate to 0.00024009999469853935.\n",
      "Epoch 17/20\n",
      "150/150 [==============================] - 305s 2s/step - loss: 0.0050 - accuracy: 0.9977 - val_loss: 0.0390 - val_accuracy: 0.9911\n",
      "Epoch 18/20\n",
      "150/150 [==============================] - 302s 2s/step - loss: 0.0019 - accuracy: 0.9990 - val_loss: 0.1687 - val_accuracy: 0.9744\n",
      "\n",
      "Epoch 00018: ReduceLROnPlateau reducing learning rate to 0.00016806999628897755.\n",
      "Epoch 19/20\n",
      "150/150 [==============================] - 295s 2s/step - loss: 0.0021 - accuracy: 0.9992 - val_loss: 0.0289 - val_accuracy: 0.9922\n",
      "Epoch 20/20\n",
      "150/150 [==============================] - 297s 2s/step - loss: 4.1594e-04 - accuracy: 1.0000 - val_loss: 0.0316 - val_accuracy: 0.9933\n"
     ]
    }
   ],
   "source": [
    "epochs = 20\n",
    "batch = 32\n",
    "\n",
    "print(\"\\n ================= Training : RESNET model ================= \\n\")\n",
    "print(\"             Epochs :  {}   |   Batch size : {} \".format(epochs, batch))\n",
    "print(\"\\n =========================================================== \\n\")\n",
    "trained = model.fit(train_ds, validation_data = val_ds, epochs=epochs, batch_size=batch, callbacks=[learning_rate_reduction])"
   ]
  },
  {
   "cell_type": "code",
   "execution_count": 14,
   "id": "d2908ddf-2556-4a4e-8dbf-ec5814608aec",
   "metadata": {},
   "outputs": [
    {
     "name": "stdout",
     "output_type": "stream",
     "text": [
      "29/29 [==============================] - 8s 263ms/step - loss: 0.0316 - accuracy: 0.9933\n",
      "\n",
      " ================= Evaluation : Resnet model ================= \n",
      "\n",
      "  With : \n",
      "\n",
      "Batch size         :  32     |   Epochs      : 20 \n",
      "Nombres de classes :  500    |   Input shape : (128, 128, 3) \n",
      "\n",
      "\n",
      " ============================================================= \n",
      "\n",
      "  Results : \n",
      "\n",
      "Loss  : 3.16%\n",
      "Score : 99.33%\n"
     ]
    }
   ],
   "source": [
    "val = model.evaluate(test_ds)\n",
    "input_shape = (128, 128, 3)\n",
    "\n",
    "print(\"\\n ================= Evaluation : Resnet model ================= \\n\")\n",
    "print(\"  With : \\n\")\n",
    "print(\"Batch size         :  {}     |   Epochs      : {} \".format(batch, epochs))\n",
    "print(\"Nombres de classes :  {}    |   Input shape : {} \\n\".format(len(train_ds.class_names), input_shape))\n",
    "print(\"\\n ============================================================= \\n\")\n",
    "\n",
    "print(\"  Results : \\n\")\n",
    "print(\"Loss  : %.2f%%\" % (val[0] * 100))\n",
    "print(\"Score : %.2f%%\" % (val[1] * 100))"
   ]
  },
  {
   "cell_type": "code",
   "execution_count": 15,
   "id": "0b807be9-798a-4258-bf8f-6ebf608c8280",
   "metadata": {},
   "outputs": [],
   "source": [
    "!mkdir -p saved_model\n",
    "model.save('saved_model/resnet150v2TL_20epochs_32batch.h5')"
   ]
  },
  {
   "cell_type": "code",
   "execution_count": null,
   "id": "9da67ed0-c8fe-46ff-8f85-f7f6c928399e",
   "metadata": {},
   "outputs": [],
   "source": []
  },
  {
   "cell_type": "code",
   "execution_count": null,
   "id": "bbb9fb40-fcaa-4708-973e-59b29f5b34bd",
   "metadata": {},
   "outputs": [],
   "source": [
    "def load_img(path, xdim=128, ydim=128, nb_of_users = 500):\n",
    "    label_names = []\n",
    "    X = []\n",
    "    y = []\n",
    "    nb_of_users = nb_of_users - 1\n",
    "    count = 0\n",
    "    identity = -1\n",
    "    directories = os.listdir(path)\n",
    "    directories.sort()\n",
    "    for dirname in tqdm_notebook(directories, desc=\"Loading images...\"):\n",
    "        if dirname == \".DS_Store\": continue\n",
    "        label_names.append(dirname)\n",
    "        data_path = os.path.join(path + \"/\" + dirname, '*g')\n",
    "        files = glob.glob(data_path)\n",
    "        if identity >= nb_of_users: break\n",
    "        identity += 1\n",
    "        files.sort()\n",
    "        for f1 in files:\n",
    "            img = cv2.imread(f1, cv2.IMREAD_GRAYSCALE)\n",
    "            #img = cv2.imread(f1)\n",
    "            #img = cv2.cvtColor(img,cv2.COLOR_GRAY2RGB)\n",
    "            img = cv2.resize(img,(int(xdim*1), int(ydim*1)))\n",
    "            X.append(np.array(img))\n",
    "            y.append(identity)\n",
    "            count += 1\n",
    "    X = np.array(X)\n",
    "    y = np.array(y)\n",
    "    print(\"\\n ================= Summary of extraction ================= \\n\")\n",
    "    print(count, ' images lues')\n",
    "    print(\"\\nX.shape = \", X.shape)\n",
    "    print(\"y.shape = \", y.shape)\n",
    "    gc.collect()\n",
    "    return X, y, label_names"
   ]
  },
  {
   "cell_type": "code",
   "execution_count": null,
   "id": "941e02d4-7f97-4d6b-89c0-bb43ba5f4b25",
   "metadata": {},
   "outputs": [],
   "source": [
    "X, y, label_names = load_img(path_data, nb_of_users=50, xdim=224, ydim=224)"
   ]
  },
  {
   "cell_type": "code",
   "execution_count": null,
   "id": "a47395f4-ce5a-4d77-bd65-149c87a4f84c",
   "metadata": {},
   "outputs": [],
   "source": [
    "X = X / 255.\n",
    "X = X.reshape(X.shape[0], X.shape[1], X.shape[2], 1)\n",
    "y = to_categorical(y)\n",
    "\n",
    "print(\"\\nPREPROCESSING DATA\")\n",
    "print(\"-----------------------------------------\")\n",
    "print(\"\\nX shape : {}\".format(X.shape))\n",
    "print(\"-----------------------------------------\")\n",
    "print(\"y shape : {}\\n\".format(y.shape))\n",
    "print(\"\\n\\n-----------------------------------------\")\n",
    "print(\"Il y a {} utilisateur(s) dans le dataset prélevé.\".format(y.shape[1]))"
   ]
  },
  {
   "cell_type": "code",
   "execution_count": null,
   "id": "3a36a424-1477-4f53-bcac-21b0c975d08f",
   "metadata": {},
   "outputs": [],
   "source": [
    "\n",
    "X_train, X_test, y_train, y_test = train_test_split(X, y, test_size=0.2, random_state=42)\n",
    "print(\"\\nSplitting data ...\\n\")\n",
    "print(\"\\n=============================== Splitting data =============================== \\n\")\n",
    "print(\"\\nX_train shape : {}    |   y_train shape : {}\".format(X_train.shape, y_train.shape))\n",
    "print(\"------------------------------------------------------------------------------\")\n",
    "print(\"(X_temp shape : {}    |   y_temp shape : {})\\n\".format(X_temp.shape, y_temp.shape))\n",
    "\n"
   ]
  },
  {
   "cell_type": "code",
   "execution_count": 18,
   "id": "b77acffe-b5f6-45a7-ae31-4c51c2fafb6e",
   "metadata": {},
   "outputs": [
    {
     "data": {
      "image/png": "[encoded data removed]",
      "text/plain": [
       "<Figure size 432x288 with 1 Axes>"
      ]
     },
     "metadata": {
      "needs_background": "light"
     },
     "output_type": "display_data"
    },
    {
     "data": {
      "image/png": "[encoded data removed]",
      "text/plain": [
       "<Figure size 432x288 with 1 Axes>"
      ]
     },
     "metadata": {
      "needs_background": "light"
     },
     "output_type": "display_data"
    }
   ],
   "source": [
    "def plot_scores(train):\n",
    "    accuracy = train.history['accuracy']\n",
    "    val_accuracy = train.history['val_accuracy']\n",
    "    epochs = range(len(accuracy))\n",
    "    plt.plot(epochs, accuracy, 'b', label='Score apprentissage')\n",
    "    plt.plot(epochs, val_accuracy, 'r', label='Score validation')\n",
    "    plt.title('Scores')\n",
    "    plt.legend()\n",
    "    plt.show()\n",
    "def plot_loss(train):\n",
    "    loss = train.history['loss']\n",
    "    val_loss = train.history['val_loss']\n",
    "    epochs = range(len(loss))\n",
    "    plt.plot(epochs, loss, 'b', label='Loss apprentissage')\n",
    "    plt.plot(epochs, val_loss, 'r', label='Loss validation')\n",
    "    plt.title('Scores')\n",
    "    plt.legend()\n",
    "    plt.show()\n",
    "    \n",
    "plot_scores(trained)\n",
    "plot_loss(trained)"
   ]
  },
  {
   "cell_type": "code",
   "execution_count": null,
   "id": "8a5afd6e-4317-4219-8f11-063173d2d011",
   "metadata": {},
   "outputs": [],
   "source": []
  },
  {
   "cell_type": "code",
   "execution_count": null,
   "id": "44ef5615-d731-47ec-882b-fc2b213cb385",
   "metadata": {},
   "outputs": [],
   "source": [
    "plot_scores(trained)\n",
    "predict_x = model.predict(X_test)\n",
    "y_cnn = np.argmax(predict_x, axis=1)\n",
    "plt.figure(figsize=(15, 25))\n",
    "n_test = X_test.shape[0]\n",
    "i = 1\n",
    "for j in range(len(X_test)):\n",
    "    if (y_cnn[j] != y_test[j].argmax(axis=-1)) & (i < 10):\n",
    "        plt.subplot(10, 5, i)\n",
    "        plt.axis('off')\n",
    "        plt.imshow(X_test[j])\n",
    "        plt.title('%s / %s' % (Classes[y_cnn[j]], Classes[y_test[j].argmax(axis=-1)]))\n",
    "        i += 1\n",
    "plt.show()"
   ]
  },
  {
   "cell_type": "code",
   "execution_count": null,
   "id": "b60301fb-92bc-4e88-a862-69d18ec0a34f",
   "metadata": {},
   "outputs": [],
   "source": []
  }
 ],
 "metadata": {
  "kernelspec": {
   "display_name": "tftest",
   "language": "python",
   "name": "tftest"
  },
  "language_info": {
   "codemirror_mode": {
    "name": "ipython",
    "version": 3
   },
   "file_extension": ".py",
   "mimetype": "text/x-python",
   "name": "python",
   "nbconvert_exporter": "python",
   "pygments_lexer": "ipython3",
   "version": "3.9.7"
  }
 },
 "nbformat": 4,
 "nbformat_minor": 5
}
