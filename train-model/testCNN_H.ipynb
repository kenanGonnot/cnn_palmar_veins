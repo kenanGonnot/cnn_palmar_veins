{
 "cells": [
  {
   "cell_type": "markdown",
   "id": "201f849e-4ab4-4b50-a94d-cfb8936ecb73",
   "metadata": {
    "tags": []
   },
   "source": [
    "# Palm vein recognition\n",
    "\n",
    "\n",
    "Ici, vous allez trouver tous les étapes nécessaires pour développer un modèle de CNN pour la reconnaissance de veines palmaires. \n",
    "\n",
    "Ce projet a été développé par : Kenan GONNOT, Lorenzo MARQUES et Fayçal MERZOUK.  \n",
    "\n",
    "**L’objectif** est de créer un modèle de veines verification : «Est-ce la bonne personne ? »\n",
    "\n",
    "Vous pouvez retrouver ce code sur [GitHub](https://github.com/kenanGonnot/cnn_palmar_veins). \n"
   ]
  },
  {
   "cell_type": "markdown",
   "id": "a1eca71d-8844-4d21-a4f6-aafaa3c6744e",
   "metadata": {},
   "source": [
    "## Table of Contents\n",
    "\n",
    "- [1 - Imports](#1)\n",
    "- [2 - Load images](#2)\n",
    "    - [2.1 - Preprocess datasets](#3)\n",
    "    - [2.2 - Plot image](#4)\n",
    "- [3 - Split dataset - Train(70%) Test(15%) Val(15%)](#5)\n",
    "- [4 - Create model CNN](#6)"
   ]
  },
  {
   "cell_type": "markdown",
   "id": "f5d0c773-557b-4e0f-b85c-a28b429c62fb",
   "metadata": {},
   "source": [
    "## Imports"
   ]
  },
  {
   "cell_type": "code",
   "execution_count": 1,
   "id": "1b097322",
   "metadata": {},
   "outputs": [],
   "source": [
    "import gc\n",
    "import glob\n",
    "import os\n",
    "import cv2\n",
    "import numpy as np\n",
    "import tensorflow as tf\n",
    "from matplotlib import pyplot as plt\n",
    "from random import randrange\n",
    "from tqdm import tqdm, tnrange\n",
    "from tqdm.notebook import tqdm_notebook\n",
    "\n",
    "import warnings\n",
    "\n",
    "from sklearn.model_selection import RandomizedSearchCV\n",
    "from sklearn.model_selection import train_test_split\n",
    "\n",
    "from keras.optimizer_v2.gradient_descent import SGD\n",
    "from keras.wrappers.scikit_learn import KerasClassifier\n",
    "from keras.callbacks import ReduceLROnPlateau\n",
    "from keras.layers import Dense, MaxPooling2D, Flatten, Conv2D, Lambda, Dropout, LeakyReLU, BatchNormalization, Activation, AveragePooling2D, GlobalAveragePooling2D\n",
    "from keras.models import Sequential\n",
    "\n",
    "from mlxtend.evaluate import accuracy\n",
    "\n",
    "from tensorflow.keras.optimizers import Adam,RMSprop,SGD, Nadam\n",
    "from tensorflow.keras.utils import to_categorical\n",
    "from tensorflow.keras.applications import VGG16"
   ]
  },
  {
   "cell_type": "code",
   "execution_count": 2,
   "id": "04f6592f",
   "metadata": {},
   "outputs": [],
   "source": [
    "#tf.random.set_seed(0)\n",
    "os.environ['TF_CPP_MIN_LOG_LEVEL'] = '2'  # ignore tensorflow warnings\n",
    "warnings.filterwarnings(\"ignore\")"
   ]
  },
  {
   "cell_type": "markdown",
   "id": "1f659ca0-bb6b-4c1f-a2d9-da894d0520de",
   "metadata": {
    "tags": []
   },
   "source": [
    "## Load images"
   ]
  },
  {
   "cell_type": "code",
   "execution_count": 3,
   "id": "8bc04ed8",
   "metadata": {},
   "outputs": [],
   "source": [
    "path_data = \"data/data_palm_vein/NIR\""
   ]
  },
  {
   "cell_type": "code",
   "execution_count": 4,
   "id": "05855268",
   "metadata": {},
   "outputs": [],
   "source": [
    "def load_img(path, xdim=128, ydim=128):\n",
    "    label_names = []\n",
    "    nmax = 6000\n",
    "    X = []\n",
    "    y = []\n",
    "    count = 0\n",
    "    #print(\"Loading images...\")\n",
    "    for dirname in tqdm_notebook(os.listdir(path), desc=\"Loading images...\"):\n",
    "        #print(\"dirname : \", dirname)\n",
    "        label_names.append(dirname)\n",
    "        data_path = os.path.join(path + \"/\" + dirname, '*g')\n",
    "        # print(\"data_path: \" + data_path)\n",
    "        files = glob.glob(data_path)\n",
    "        #print(\"Count = \", count)\n",
    "        if count > nmax: break\n",
    "        for f1 in files:\n",
    "            #print(\"files : \", f1)\n",
    "            img = cv2.imread(f1)\n",
    "            #img = cv2.imread(f1, cv2.IMREAD_GRAYSCALE)\n",
    "            # img = cv2.cvtColor(img, cv2.COLOR_BGR2RGB)\n",
    "            img = cv2.cvtColor(img, cv2.COLOR_BGR2GRAY)\n",
    "            #img = cv2.imread(f1, 0)\n",
    "            #img = cv2.resize(img, (xdim, ydim))\n",
    "            X.append(np.array(img))\n",
    "            y.append(dirname)\n",
    "            count += 1\n",
    "    print(count, ' images lues')\n",
    "    X = np.array(X)\n",
    "    y = np.array(y)\n",
    "    print(\"\\ny.shape = \", y.shape)\n",
    "    print(\"X.shape = \", X.shape)\n",
    "    gc.collect()\n",
    "    return X, y, label_names"
   ]
  },
  {
   "cell_type": "code",
   "execution_count": 5,
   "id": "f8904884-3635-4298-a1a1-87e908f26a74",
   "metadata": {},
   "outputs": [],
   "source": [
    "def load_img3(path, xdim=512, ydim=512):\n",
    "    label_names = []\n",
    "    nmax = 6000\n",
    "    X = []\n",
    "    y = []\n",
    "    count = 0\n",
    "    identity = -1\n",
    "    #print(\"Loading images...\")\n",
    "    for dirname in tqdm_notebook(os.listdir(path), desc=\"Loading images...\"):\n",
    "        if dirname == \".DS_Store\": continue\n",
    "        #print(\"dirname : \", dirname)\n",
    "        label_names.append(dirname)\n",
    "        data_path = os.path.join(path + \"/\" + dirname, '*g')\n",
    "        # print(\"data_path: \" + data_path)\n",
    "        files = glob.glob(data_path)\n",
    "        identity += 1\n",
    "        #print(\"Count = \", count)\n",
    "        if count > nmax: break\n",
    "        for f1 in files:\n",
    "            #print(\"files : \", f1)\n",
    "            img = cv2.imread(f1)\n",
    "            #img = cv2.imread(f1, cv2.IMREAD_GRAYSCALE)\n",
    "            # img = cv2.cvtColor(img, cv2.COLOR_BGR2RGB)\n",
    "            img = cv2.cvtColor(img, cv2.COLOR_BGR2GRAY)\n",
    "            #img = cv2.imread(f1, 0)\n",
    "            img = cv2.resize(img, (xdim, ydim))\n",
    "            X.append(np.array(img))\n",
    "            y.append(identity)\n",
    "            count += 1\n",
    "    print(count, ' images lues')\n",
    "    X = np.array(X)\n",
    "    y = np.array(y)\n",
    "    print(\"\\ny.shape = \", y.shape)\n",
    "    print(\"X.shape = \", X.shape)\n",
    "    gc.collect()\n",
    "    return X, y, label_names"
   ]
  },
  {
   "cell_type": "raw",
   "id": "ed08cd67-9e62-4060-a465-fe5ff60b73b6",
   "metadata": {},
   "source": [
    "def load_img2(path, xdim=128, ydim=128):\n",
    "    label_names = []\n",
    "    nmax = 6000\n",
    "    X = []\n",
    "    y = []\n",
    "    count = 0\n",
    "    #print(\"Loading images...\")\n",
    "    for dirname in tqdm_notebook(os.listdir(path), desc=\"Loading images...\"):\n",
    "        #print(\"dirname : \", dirname)\n",
    "        label_names.append(dirname)\n",
    "        data_path = os.path.join(path + \"/\" + dirname, '*g')\n",
    "        # print(\"data_path: \" + data_path)\n",
    "        files = glob.glob(data_path)\n",
    "        #print(\"Count = \", count)\n",
    "        if count > nmax: break\n",
    "        for f1 in files:\n",
    "            #print(\"files : \", f1)\n",
    "            img = cv2.imread(f1)\n",
    "            #img = cv2.imread(f1, cv2.IMREAD_GRAYSCALE)\n",
    "            # img = cv2.cvtColor(img, cv2.COLOR_BGR2RGB)            \n",
    "            hsv = cv2.cvtColor(img, cv2.COLOR_BGR2HSV)\n",
    "            h,s,v= cv2.split(hsv)\n",
    "            ret_h, th_h = cv2.threshold(h,0,255,cv2.THRESH_BINARY+cv2.THRESH_OTSU)\n",
    "            ret_s, th_s = cv2.threshold(s,0,255,cv2.THRESH_BINARY+cv2.THRESH_OTSU)\n",
    "            th=cv2.bitwise_or(th_h,th_s)\n",
    "\n",
    "                \n",
    "            #img = cv2.imread(f1, 0)\n",
    "            #img = cv2.resize(img, (xdim, ydim))\n",
    "            #X.append(np.array(img))\n",
    "            X.append(np.array(th_h))\n",
    "            y.append(dirname)\n",
    "            count += 1\n",
    "    print(count, ' images lues')\n",
    "    X = np.array(X)\n",
    "    y = np.array(y)\n",
    "    print(\"\\ny.shape = \", y.shape)\n",
    "    print(\"X.shape = \", X.shape)\n",
    "    gc.collect()\n",
    "    return X, y, label_names\n",
    "\n"
   ]
  },
  {
   "cell_type": "code",
   "execution_count": 6,
   "id": "931f9228",
   "metadata": {
    "scrolled": true
   },
   "outputs": [
    {
     "data": {
      "application/vnd.jupyter.widget-view+json": {
       "model_id": "6105ddef1a6a4599bfcc3a12e461a9e4",
       "version_major": 2,
       "version_minor": 0
      },
      "text/plain": [
       "Loading images...:   0%|          | 0/501 [00:00<?, ?it/s]"
      ]
     },
     "metadata": {},
     "output_type": "display_data"
    },
    {
     "name": "stdout",
     "output_type": "stream",
     "text": [
      "6000  images lues\n",
      "\n",
      "y.shape =  (6000,)\n",
      "X.shape =  (6000, 512, 512)\n"
     ]
    }
   ],
   "source": [
    "X, y, label_names = load_img3(path_data)"
   ]
  },
  {
   "cell_type": "markdown",
   "id": "f46a717f-ca4b-4a6b-8f0f-fd8956374746",
   "metadata": {
    "tags": []
   },
   "source": [
    "### Preprocess datasets"
   ]
  },
  {
   "cell_type": "code",
   "execution_count": 7,
   "id": "185379c8",
   "metadata": {},
   "outputs": [
    {
     "name": "stdout",
     "output_type": "stream",
     "text": [
      "\n",
      "Preprocessing data\n",
      "-----------------------------------------\n",
      "\n",
      "X shape : (6000, 512, 512, 1)\n",
      "-----------------------------------------\n",
      "y shape : (6000, 500)\n",
      "\n"
     ]
    }
   ],
   "source": [
    "X = X / 255.\n",
    "X = X.reshape(X.shape[0], X.shape[1], X.shape[2], 1)\n",
    "y = tf.keras.utils.to_categorical(y)\n",
    "\n",
    "print(\"\\nPreprocessing data\")\n",
    "print(\"-----------------------------------------\")\n",
    "print(\"\\nX shape : {}\".format(X.shape))\n",
    "print(\"-----------------------------------------\")\n",
    "print(\"y shape : {}\\n\".format(y.shape))"
   ]
  },
  {
   "cell_type": "markdown",
   "id": "7ae66197-2307-440a-95f7-14ec65dead82",
   "metadata": {},
   "source": [
    "## Plot image"
   ]
  },
  {
   "cell_type": "code",
   "execution_count": 8,
   "id": "875bb75e",
   "metadata": {},
   "outputs": [
    {
     "name": "stdout",
     "output_type": "stream",
     "text": [
      "24\n"
     ]
    },
    {
     "data": {
      "image/png": "[encoded data removed]",
      "text/plain": [
       "<Figure size 432x288 with 1 Axes>"
      ]
     },
     "metadata": {
      "needs_background": "light"
     },
     "output_type": "display_data"
    }
   ],
   "source": [
    "j = randrange(y.shape[1])\n",
    "print(j)\n",
    "plt.imshow(X[j], cmap='gray')\n",
    "#plt.imshow(X[j])\n",
    "plt.show()\n",
    "#print(\"\\ny : \\n\",y[j])\n",
    "#print(X[j])"
   ]
  },
  {
   "cell_type": "markdown",
   "id": "cc535d9c-bd9a-4109-ac8a-6dbdd02cb6ec",
   "metadata": {},
   "source": [
    "## Split dataset - Train(70%) Test(15%) Val(15%)"
   ]
  },
  {
   "cell_type": "code",
   "execution_count": 9,
   "id": "b9a178bf",
   "metadata": {},
   "outputs": [
    {
     "name": "stdout",
     "output_type": "stream",
     "text": [
      "\n",
      "Splitting data ...\n",
      "\n",
      "-----------------------------------------------------------------------------------------\n",
      "\n",
      "X_train shape : (4200, 512, 512, 1)    |   y_train shape : (4200, 500)\n",
      "-----------------------------------------------------------------------------------------\n",
      "\n",
      "X_test shape  : (900, 512, 512, 1)    |   y_test shape  : (900, 500)\n",
      "-----------------------------------------------------------------------------------------\n",
      "\n",
      "X_val shape   : (900, 512, 512, 1)    |   y_val shape   : (900, 500)\n"
     ]
    }
   ],
   "source": [
    "X_train, X_temp, y_train, y_temp = train_test_split(X, y, test_size=0.3, random_state=42, shuffle=False)\n",
    "\n",
    "X_test, X_val, y_test, y_val = train_test_split(X_temp, y_temp, test_size=0.5, random_state=42, shuffle=True)\n",
    "\n",
    "print(\"\\nSplitting data ...\\n\")\n",
    "print(\"-----------------------------------------------------------------------------------------\")\n",
    "print(\"\\nX_train shape : {}    |   y_train shape : {}\".format(X_train.shape, y_train.shape))\n",
    "print(\"-----------------------------------------------------------------------------------------\")\n",
    "print(\"\\nX_test shape  : {}    |   y_test shape  : {}\".format(X_test.shape, y_test.shape))\n",
    "print(\"-----------------------------------------------------------------------------------------\")\n",
    "print(\"\\nX_val shape   : {}    |   y_val shape   : {}\".format(X_val.shape, y_val.shape))"
   ]
  },
  {
   "cell_type": "markdown",
   "id": "6051d729-9ef8-4c29-9438-852c7030c689",
   "metadata": {},
   "source": [
    "## Create model CNN"
   ]
  },
  {
   "cell_type": "markdown",
   "id": "666d46eb-4834-47e7-9aa1-b6f4b5136802",
   "metadata": {
    "jp-MarkdownHeadingCollapsed": true,
    "tags": []
   },
   "source": [
    "### random model"
   ]
  },
  {
   "cell_type": "code",
   "execution_count": null,
   "id": "585f20b5-6780-4404-a113-5b0653db811d",
   "metadata": {},
   "outputs": [],
   "source": [
    "modelTemp = Sequential()\n",
    "modelTemp.add(Conv2D(512, (3, 3), activation='relu', input_shape=(128, 128,1)))\n",
    "modelTemp.add(MaxPooling2D((2, 2)))\n",
    "modelTemp.add(Conv2D(256, (3, 3), activation='relu'))\n",
    "modelTemp.add(MaxPooling2D((2, 2)))\n",
    "modelTemp.add(Conv2D(64, (3, 3), activation='relu'))\n",
    "modelTemp.add(Flatten())\n",
    "modelTemp.add(Dense(1024, activation='relu'))\n",
    "modelTemp.add(Dense(500, activation='sigmoid'))\n",
    "\n",
    "modelTemp.compile(optimizer='nadam',\n",
    "              loss='categorical_crossentropy',\n",
    "              metrics=['accuracy'])\n",
    "\n",
    "modelTemp.summary()"
   ]
  },
  {
   "cell_type": "code",
   "execution_count": null,
   "id": "b5e7072f-17ec-42e6-8d51-2c8065a62b61",
   "metadata": {},
   "outputs": [],
   "source": [
    "modelTemp.fit(X_train, y_train, epochs=5, validation_data=(X_val, y_val), batch_size=32)\n",
    "val = modelTemp.evaluate(X_test, y_test, verbose=0)\n",
    "\n",
    "print(\"\\nLoss  : %.2f%%\" % (val[0] * 100))\n",
    "print(\"Score : %.2f%%\" % (val[1] * 100))"
   ]
  },
  {
   "cell_type": "code",
   "execution_count": null,
   "id": "c56ee44b-a0b2-468e-902f-25fc0aaa5f84",
   "metadata": {},
   "outputs": [],
   "source": []
  },
  {
   "cell_type": "code",
   "execution_count": null,
   "id": "d54a5084-3994-4e03-93f9-90de4d10941a",
   "metadata": {},
   "outputs": [],
   "source": []
  },
  {
   "cell_type": "code",
   "execution_count": null,
   "id": "8b910708-b26b-4ae1-9467-d9cb609f1790",
   "metadata": {},
   "outputs": [],
   "source": []
  },
  {
   "cell_type": "code",
   "execution_count": null,
   "id": "42720b59-fda9-44ba-9331-8111c5b5ffaa",
   "metadata": {},
   "outputs": [],
   "source": []
  },
  {
   "cell_type": "code",
   "execution_count": null,
   "id": "cb82a800-4940-47c8-8574-4bbadfa20206",
   "metadata": {},
   "outputs": [],
   "source": []
  },
  {
   "cell_type": "code",
   "execution_count": null,
   "id": "e584ad5a-81ef-4303-8083-3db785d07d62",
   "metadata": {},
   "outputs": [],
   "source": []
  },
  {
   "cell_type": "code",
   "execution_count": null,
   "id": "5db65db9-725d-421a-a4c7-d0cc8167f81b",
   "metadata": {},
   "outputs": [],
   "source": []
  },
  {
   "cell_type": "code",
   "execution_count": null,
   "id": "8a0834db-2e13-40d7-ab0e-da2c10078c02",
   "metadata": {},
   "outputs": [],
   "source": []
  },
  {
   "cell_type": "code",
   "execution_count": null,
   "id": "b0f764c8-3ffb-4b79-82d8-a56c2d0267be",
   "metadata": {},
   "outputs": [],
   "source": []
  },
  {
   "cell_type": "markdown",
   "id": "32d70281-234a-4cb0-9a6e-b44a94c29903",
   "metadata": {},
   "source": [
    "### Zfnet model"
   ]
  },
  {
   "cell_type": "code",
   "execution_count": 10,
   "id": "50747e1c",
   "metadata": {},
   "outputs": [],
   "source": [
    "def zfnet_model(input_shape, classes):\n",
    "    model = Sequential()\n",
    "    model.add(Conv2D(filters=96, kernel_size=(7, 7), strides=(2, 2), padding=\"valid\", activation=\"relu\",\n",
    "                     kernel_initializer=\"uniform\", input_shape=input_shape))\n",
    "\n",
    "    model.add(MaxPooling2D(pool_size=(2, 2), strides=(2, 2)))\n",
    "    # model.add(Lambda(lambda x: tf.image.per_image_standardization(x)))\n",
    "\n",
    "    model.add(Conv2D(filters=256, kernel_size=(5, 5), strides=(2, 2), padding=\"same\",\n",
    "                     activation=\"relu\", kernel_initializer=\"uniform\"))\n",
    "\n",
    "    model.add(MaxPooling2D(pool_size=(3, 3), strides=(2, 2)))\n",
    "    # model.add(Lambda(lambda x: tf.image.per_image_standardization(x)))\n",
    "\n",
    "    model.add(Conv2D(filters=384, kernel_size=(3, 3), strides=(1, 1), padding=\"same\",\n",
    "                     kernel_initializer=\"uniform\"))\n",
    "\n",
    "    model.add(Conv2D(filters=384, kernel_size=(3, 3), strides=(1, 1), padding=\"same\",\n",
    "                     kernel_initializer=\"uniform\"))\n",
    "    model.add(Conv2D(filters=256, kernel_size=(5, 5), strides=(1, 1), padding=\"same\",\n",
    "                     activation=\"relu\", kernel_initializer=\"uniform\"))\n",
    "\n",
    "    model.add(MaxPooling2D(pool_size=(3, 3), strides=(2, 2)))\n",
    "\n",
    "    model.add(Flatten())\n",
    "    model.add(Dense(4096, activation=\"relu\"))\n",
    "    model.add(Dropout(0.5))\n",
    "    model.add(Dense(units=4096, activation=\"relu\"))\n",
    "    model.add(Dropout(0.5))\n",
    "    model.add(Dense(units=classes, activation=\"softmax\"))\n",
    "\n",
    "    print(model.summary())\n",
    "    print(\"\\n ================= ZFNET model ================= \\n\")\n",
    "    # model.compile(optimizer=SGD(lr=0.01, momentum=0.9), loss='categorical_crossentropy',\n",
    "    #               metrics=['accuracy', TopKCategoricalAccuracy(1)])\n",
    "    model.compile(optimizer=Nadam(lr=0.0001), loss='categorical_crossentropy', metrics=['accuracy'])\n",
    "    #model.compile(optimizer='nadam', loss='categorical_crossentropy', metrics=['accuracy'])\n",
    "    # model.compile(optimizer=SGD(lr=0.01, momentum=0.9), loss='binary_crossentropy', metrics=['accuracy'])\n",
    "    #reduce_lr = tf.keras.callbacks.ReduceLROnPlateau(monitor='val_loss', factor=0.1, patience=1, min_lr=0.00001)\n",
    "    # reduce_lr=0\n",
    "    return model\n",
    "\n"
   ]
  },
  {
   "cell_type": "code",
   "execution_count": 11,
   "id": "eb620244",
   "metadata": {},
   "outputs": [
    {
     "name": "stdout",
     "output_type": "stream",
     "text": [
      "Metal device set to: Apple M1\n",
      "Model: \"sequential\"\n",
      "_________________________________________________________________\n",
      "Layer (type)                 Output Shape              Param #   \n",
      "=================================================================\n",
      "conv2d (Conv2D)              (None, 253, 253, 96)      4800      \n",
      "_________________________________________________________________\n",
      "max_pooling2d (MaxPooling2D) (None, 126, 126, 96)      0         \n",
      "_________________________________________________________________\n",
      "conv2d_1 (Conv2D)            (None, 63, 63, 256)       614656    \n",
      "_________________________________________________________________\n",
      "max_pooling2d_1 (MaxPooling2 (None, 31, 31, 256)       0         \n",
      "_________________________________________________________________\n",
      "conv2d_2 (Conv2D)            (None, 31, 31, 384)       885120    \n",
      "_________________________________________________________________\n",
      "conv2d_3 (Conv2D)            (None, 31, 31, 384)       1327488   \n",
      "_________________________________________________________________\n",
      "conv2d_4 (Conv2D)            (None, 31, 31, 256)       2457856   \n",
      "_________________________________________________________________\n",
      "max_pooling2d_2 (MaxPooling2 (None, 15, 15, 256)       0         \n",
      "_________________________________________________________________\n",
      "flatten (Flatten)            (None, 57600)             0         \n",
      "_________________________________________________________________\n",
      "dense (Dense)                (None, 4096)              235933696 \n",
      "_________________________________________________________________\n",
      "dropout (Dropout)            (None, 4096)              0         \n",
      "_________________________________________________________________\n",
      "dense_1 (Dense)              (None, 4096)              16781312  \n",
      "_________________________________________________________________\n",
      "dropout_1 (Dropout)          (None, 4096)              0         \n",
      "_________________________________________________________________\n",
      "dense_2 (Dense)              (None, 500)               2048500   \n",
      "=================================================================\n",
      "Total params: 260,053,428\n",
      "Trainable params: 260,053,428\n",
      "Non-trainable params: 0\n",
      "_________________________________________________________________\n",
      "None\n",
      "\n",
      " ================= ZFNET model ================= \n",
      "\n"
     ]
    }
   ],
   "source": [
    "Nombre_classes = len(label_names)\n",
    "input_shape = (X.shape[1], X.shape[2], 1)\n",
    "model = zfnet_model(input_shape, Nombre_classes)"
   ]
  },
  {
   "cell_type": "code",
   "execution_count": null,
   "id": "b57b2f9b",
   "metadata": {
    "scrolled": true
   },
   "outputs": [
    {
     "name": "stdout",
     "output_type": "stream",
     "text": [
      "Epoch 1/4\n",
      "131/132 [============================>.] - ETA: 5s - loss: 6.0858 - accuracy: 0.0043 "
     ]
    }
   ],
   "source": [
    "trained_model = model.fit(X_train, y_train, validation_data=(X_val, y_val), epochs=4)"
   ]
  },
  {
   "cell_type": "code",
   "execution_count": null,
   "id": "95f045a7-a3ed-4319-9b9e-3bfc0b421038",
   "metadata": {},
   "outputs": [],
   "source": [
    "val = model.evaluate(X_test, y_test, verbose=0)\n",
    "\n",
    "print(\"\\nLoss  : %.2f%%\" % (val[0] * 100))\n",
    "print(\"Score : %.2f%%\" % (val[1] * 100))"
   ]
  },
  {
   "cell_type": "markdown",
   "id": "b0fba9ea-f907-477f-ac2d-6bd2aab195b2",
   "metadata": {},
   "source": [
    "#### plot score - zfnet "
   ]
  },
  {
   "cell_type": "code",
   "execution_count": null,
   "id": "a29ed9c7",
   "metadata": {},
   "outputs": [],
   "source": [
    "def plot_scores(train):\n",
    "    accuracy = train.history['accuracy']\n",
    "    val_accuracy = train.history['val_accuracy']\n",
    "    epochs = range(len(accuracy))\n",
    "    plt.plot(epochs, accuracy, 'b', label='Score apprentissage')\n",
    "    plt.plot(epochs, val_accuracy, 'r', label='Score validation')\n",
    "    plt.title('Scores')\n",
    "    plt.legend()\n",
    "    plt.show()"
   ]
  },
  {
   "cell_type": "code",
   "execution_count": null,
   "id": "6f7e9326",
   "metadata": {},
   "outputs": [],
   "source": [
    "plot_scores(trained_model)\n",
    "predict_x = model.predict(X_test)\n",
    "y_cnn = np.argmax(predict_x, axis=1)\n",
    "plt.figure(figsize=(15, 25))\n",
    "n_test = X_test.shape[0]\n",
    "i = 1\n",
    "for j in range(len(X_test)):\n",
    "    if (y_cnn[j] != y_test[j].argmax(axis=-1)) & (i < 10):\n",
    "        plt.subplot(10, 5, i)\n",
    "        plt.axis('off')\n",
    "        plt.imshow(X_test[j])\n",
    "        plt.title('%s / %s' % (Classes[y_cnn[j]], Classes[y_test[j].argmax(axis=-1)]))\n",
    "        i += 1\n",
    "plt.show()"
   ]
  },
  {
   "cell_type": "markdown",
   "id": "35c73b51-2fae-4b3c-b642-612474a0cfb6",
   "metadata": {
    "tags": []
   },
   "source": [
    "### VGG16 model"
   ]
  },
  {
   "cell_type": "code",
   "execution_count": null,
   "id": "cf5c57b1",
   "metadata": {},
   "outputs": [],
   "source": [
    "from keras.applications.vgg16 import VGG16\n",
    "\n",
    "def vgg_model_tf(input_shape=(128, 128, 1), nombre_classes=501):\n",
    "    vgg16 = VGG16(weights=None, include_top=False, input_shape=input_shape)\n",
    "    vgg16.trainable = False\n",
    "    model = Sequential()\n",
    "    model.add(vgg16)\n",
    "    model.add(Flatten())\n",
    "    model.add(Dense(nombre_classes, activation='softmax'))\n",
    "    model.compile(loss='categorical_crossentropy', optimizer='nadam', metrics=['accuracy'])\n",
    "    return model"
   ]
  },
  {
   "cell_type": "code",
   "execution_count": null,
   "id": "131e441e-1ad8-44f2-b126-32b29d8b487c",
   "metadata": {},
   "outputs": [],
   "source": [
    "model_vgg = vgg_model_tf(nombre_classes=y.shape[1])\n",
    "model_vgg.summary()"
   ]
  },
  {
   "cell_type": "code",
   "execution_count": null,
   "id": "158a560c-6491-4632-84b5-e6c6cfdecc3d",
   "metadata": {},
   "outputs": [],
   "source": [
    "trained_model_vgg = model_vgg.fit(X_train, y_train, validation_data=(X_val, y_val), epochs=10)"
   ]
  },
  {
   "cell_type": "code",
   "execution_count": null,
   "id": "7a89bb03",
   "metadata": {},
   "outputs": [],
   "source": [
    "val = model.evaluate(X_test, y_test, verbose=0)\n",
    "print(\"\\nLoss  : %.2f%%\" % (val[0] * 100))\n",
    "print(\"Score : %.2f%%\" % (val[1] * 100))"
   ]
  },
  {
   "cell_type": "markdown",
   "id": "9cb016e5-774e-4b1f-9398-63e3a4b1918a",
   "metadata": {},
   "source": [
    "### Resnet 152 layers"
   ]
  },
  {
   "cell_type": "code",
   "execution_count": null,
   "id": "307f8b99",
   "metadata": {},
   "outputs": [],
   "source": [
    "from keras.applications.resnet_v2 import ResNet152V2\n",
    "\n",
    "def resnet_model_tf(input_shape=(128, 128, 1), nombre_classes=11):\n",
    "    resnet = ResNet152V2(weights=None, include_top=False, input_shape=input_shape)\n",
    "    resnet.trainable = False\n",
    "    model = Sequential()\n",
    "    model.add(resnet)\n",
    "    model.add(Flatten())\n",
    "    model.add(Dense(1024, activation='relu'))\n",
    "    model.add(Dense(nombre_classes, activation='softmax'))\n",
    "    \n",
    "    print(model.summary())\n",
    "    model.compile(loss='categorical_crossentropy', optimizer='nadam', metrics=['accuracy'])\n",
    "    return model"
   ]
  },
  {
   "cell_type": "code",
   "execution_count": null,
   "id": "8b5bd6f5",
   "metadata": {},
   "outputs": [],
   "source": [
    "model_resnet = resnet_model_tf(nombre_classes=y.shape[1])"
   ]
  },
  {
   "cell_type": "markdown",
   "id": "58df88c0-09e8-43f2-9d34-b9c0014dc1f3",
   "metadata": {},
   "source": [
    "model_resnet.load_weights('saved_model/resnet150_388_51.h5')"
   ]
  },
  {
   "cell_type": "code",
   "execution_count": null,
   "id": "e58ccf50-7ef0-43a1-92c0-305f3005dc89",
   "metadata": {},
   "outputs": [],
   "source": [
    "trained_model_resnet = model_resnet.fit(X_train, y_train, validation_data=(X_val, y_val), epochs=10)"
   ]
  },
  {
   "cell_type": "code",
   "execution_count": null,
   "id": "1a853a4e-64c3-45f5-8279-d14a3d1d82f8",
   "metadata": {},
   "outputs": [],
   "source": [
    "\n",
    "val = model_resnet.evaluate(X_test, y_test, verbose=0)\n",
    "\n",
    "print(\"\\nLoss  : %.2f%%\" % (val[0] * 100))\n",
    "print(\"Score : %.2f%%\" % (val[1] * 100))"
   ]
  },
  {
   "cell_type": "markdown",
   "id": "89ae7e20-07f4-495e-bfa7-f47fd91f0c94",
   "metadata": {},
   "source": [
    "## Saving models"
   ]
  },
  {
   "cell_type": "code",
   "execution_count": null,
   "id": "df8e8ca6-6c57-48f7-9817-7d40496353c5",
   "metadata": {},
   "outputs": [],
   "source": [
    "!mkdir -p saved_model\n",
    "model_resnet50.save('saved_model/resnet150_388_51.h5')"
   ]
  },
  {
   "cell_type": "markdown",
   "id": "808d0ca3-ec0f-4a96-af9e-506b6211a96f",
   "metadata": {},
   "source": [
    "### Resnet 50 layers"
   ]
  },
  {
   "cell_type": "code",
   "execution_count": null,
   "id": "ec3fa1fb",
   "metadata": {},
   "outputs": [],
   "source": [
    "from keras.applications.resnet import ResNet50\n",
    "\n",
    "def resnet50_model_tf(input_shape=(128, 128, 1), nombre_classes=500):\n",
    "    resnet = ResNet50(weights=None, include_top=False, input_shape=input_shape)\n",
    "    resnet.trainable = False\n",
    "    model = Sequential()\n",
    "    model.add(resnet)\n",
    "    model.add(Flatten())\n",
    "    model.add(Dense(1024, activation='relu'))\n",
    "    model.add(Dense(nombre_classes, activation='softmax'))\n",
    "    \n",
    "    print(model.summary())\n",
    "    model.compile(loss='categorical_crossentropy', optimizer='nadam', metrics=['accuracy'])\n",
    "    return model"
   ]
  },
  {
   "cell_type": "code",
   "execution_count": null,
   "id": "b5b16e63",
   "metadata": {},
   "outputs": [],
   "source": [
    "model_resnet50 = resnet50_model_tf()\n",
    "\n",
    "trained_model_resnet50 = model_resnet50.fit(X_train, y_train, validation_data=(X_val, y_val), epochs=5)"
   ]
  },
  {
   "cell_type": "code",
   "execution_count": null,
   "id": "27b35904-2c68-4c44-b7da-9ca7569266e4",
   "metadata": {},
   "outputs": [],
   "source": [
    "val = model_resnet50.evaluate(X_test, y_test, verbose=0)\n",
    "print(\"\\nLoss  : %.2f%%\" % (val[0] * 100))\n",
    "print(\"Score : %.2f%%\" % (val[1] * 100))"
   ]
  },
  {
   "cell_type": "code",
   "execution_count": null,
   "id": "d935d00f",
   "metadata": {},
   "outputs": [],
   "source": [
    "!mkdir -p saved_model\n",
    "model_resnet50.save('saved_model/resnet50_200.h5')"
   ]
  },
  {
   "cell_type": "code",
   "execution_count": null,
   "id": "834c6666",
   "metadata": {},
   "outputs": [],
   "source": []
  },
  {
   "cell_type": "markdown",
   "id": "091d4c51-3ee7-4db8-bb99-5d5ff46b7b9a",
   "metadata": {
    "jp-MarkdownHeadingCollapsed": true,
    "tags": []
   },
   "source": [
    "## test model"
   ]
  },
  {
   "cell_type": "code",
   "execution_count": null,
   "id": "3c09b6e0",
   "metadata": {},
   "outputs": [],
   "source": [
    "from tensorflow.keras.layers import BatchNormalization, Activation, AveragePooling2D, GlobalAveragePooling2D\n",
    "\n",
    "model = Sequential()\n",
    "model.add(Flatten(input_shape=(128, 128, 1)))\n",
    "model.add(Dense(1024, input_dim=(16384,)))\n",
    "model.add(Activation('relu'))\n",
    "model.add(Dropout(0.45))\n",
    "model.add(Dense(1024))\n",
    "model.add(Activation('relu'))\n",
    "model.add(Dropout(0.45))\n",
    "model.add(Dense(501))\n",
    "model.add(Activation('softmax'))\n",
    "\n",
    "model.compile(loss='categorical_crossentropy', \n",
    "              optimizer='sgd',\n",
    "              metrics=['accuracy'])\n",
    "\n",
    "model.summary()"
   ]
  },
  {
   "cell_type": "code",
   "execution_count": null,
   "id": "4535b661",
   "metadata": {},
   "outputs": [],
   "source": [
    "model.fit(X_train, y_train, epochs=2)"
   ]
  },
  {
   "cell_type": "code",
   "execution_count": null,
   "id": "c15ceee4",
   "metadata": {},
   "outputs": [],
   "source": []
  }
 ],
 "metadata": {
  "kernelspec": {
   "display_name": "tftest",
   "language": "python",
   "name": "tftest"
  },
  "language_info": {
   "codemirror_mode": {
    "name": "ipython",
    "version": 3
   },
   "file_extension": ".py",
   "mimetype": "text/x-python",
   "name": "python",
   "nbconvert_exporter": "python",
   "pygments_lexer": "ipython3",
   "version": "3.9.7"
  }
 },
 "nbformat": 4,
 "nbformat_minor": 5
}
